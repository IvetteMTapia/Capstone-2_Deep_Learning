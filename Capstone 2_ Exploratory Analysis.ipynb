{
 "cells": [
  {
   "cell_type": "markdown",
   "metadata": {},
   "source": [
    "# Exploratory Data Analysis"
   ]
  },
  {
   "cell_type": "markdown",
   "metadata": {},
   "source": [
    "### Import Libraries"
   ]
  },
  {
   "cell_type": "code",
   "execution_count": 1,
   "metadata": {},
   "outputs": [],
   "source": [
    "import pandas as pd\n",
    "import seaborn as sns\n",
    "import matplotlib as plt\n",
    "import numpy as np"
   ]
  },
  {
   "cell_type": "markdown",
   "metadata": {},
   "source": [
    "### Authorization for Hospital Admission Data"
   ]
  },
  {
   "cell_type": "markdown",
   "metadata": {},
   "source": [
    "The AIH datasets contains data on hospital production and services in Brazil. The data that will be used here is the Authorization for Hospital Admission. This dataset is part of `Brazil’s SIHSUS Hospital Information System`. This system manages the coordination and payment by Brazil’s public healthcare system (covers around 34% of Brazil’s population). In this application, I will be using data from 2015 – 2018. This represents 3.5 years’ of information.\n",
    "\n",
    "A record in the AIH database is created when a hospital or healthcare unit generates a request for hospitalization. Providers submit demographic and health information about the patient. This request is ultimately approved or rejected. While the patient is in the hospital, the record is updated to also contain information about procedures performed and discharge. \n",
    "\n",
    "More information about this data can be found below: \n",
    "\n",
    "* [DataSUS Website](http://datasus.saude.gov.br/informacoes-de-saude)\n",
    "* [AIH Data Fields](https://github.com/IvetteMTapia/Capstone-2_Deep_Learning/blob/master/IT_SIHSUS_1603_DataDict.pdf)"
   ]
  },
  {
   "cell_type": "markdown",
   "metadata": {},
   "source": [
    "### Upload Data"
   ]
  },
  {
   "cell_type": "markdown",
   "metadata": {},
   "source": [
    "Upload random sample created from the AIH 2015 - 2018 files."
   ]
  },
  {
   "cell_type": "code",
   "execution_count": 3,
   "metadata": {},
   "outputs": [
    {
     "name": "stderr",
     "output_type": "stream",
     "text": [
      "<string>:2: DtypeWarning: Columns (72) have mixed types. Specify dtype option on import or set low_memory=False.\n"
     ]
    },
    {
     "name": "stdout",
     "output_type": "stream",
     "text": [
      "CPU times: user 1min 55s, sys: 27.5 s, total: 2min 22s\n",
      "Wall time: 2min 28s\n"
     ]
    }
   ],
   "source": [
    "%%time\n",
    "\n",
    "AIH_sample_path = ('/Users/ivettetapia 1/Symbolic Link Seagate Drive/Springboard/Capstone 2_Deep_Learning/Data/Random Sample File/AIH_random_sample_full.csv')\n",
    "\n",
    "AIH_sample = pd.read_csv(AIH_sample_path, \n",
    "                         encoding = 'UTF-8', \n",
    "                         na_values= ['NaN',' ',''], \n",
    "                         low_memory=True)"
   ]
  },
  {
   "cell_type": "code",
   "execution_count": 4,
   "metadata": {},
   "outputs": [
    {
     "name": "stdout",
     "output_type": "stream",
     "text": [
      "<class 'pandas.core.frame.DataFrame'>\n",
      "RangeIndex: 8329642 entries, 0 to 8329641\n",
      "Data columns (total 73 columns):\n",
      "UF_ZI         8329642 non-null int64\n",
      "ANO_CMPT      8329642 non-null int64\n",
      "MES_CMPT      8329642 non-null int64\n",
      "ESPEC         8329642 non-null int64\n",
      "CGC_HOSP      6282752 non-null float64\n",
      "N_AIH         8329642 non-null int64\n",
      "IDENT         8329642 non-null int64\n",
      "CEP           8329642 non-null int64\n",
      "MUNIC_RES     8329642 non-null int64\n",
      "NASC          8329642 non-null int64\n",
      "SEXO          8329642 non-null int64\n",
      "UTI_MES_TO    8329642 non-null int64\n",
      "MARCA_UTI     8329642 non-null int64\n",
      "UTI_INT_IN    8329642 non-null int64\n",
      "UTI_INT_AN    8329642 non-null int64\n",
      "UTI_INT_AL    8329642 non-null int64\n",
      "UTI_INT_TO    8329642 non-null int64\n",
      "DIAR_ACOM     8329642 non-null int64\n",
      "QT_DIARIAS    8329642 non-null int64\n",
      "PROC_SOLIC    8329642 non-null int64\n",
      "PROC_REA      8329642 non-null int64\n",
      "VAL_SH        8329642 non-null float64\n",
      "VAL_SP        8329642 non-null float64\n",
      "VAL_TOT       8329642 non-null float64\n",
      "VAL_UTI       8329642 non-null float64\n",
      "US_TOT        8329642 non-null float64\n",
      "DT_INTER      8329642 non-null int64\n",
      "DT_SAIDA      8329642 non-null int64\n",
      "DIAG_PRINC    8329642 non-null object\n",
      "DIAG_SECUN    8329642 non-null int64\n",
      "COBRANCA      8329642 non-null int64\n",
      "NATUREZA      8329642 non-null int64\n",
      "NAT_JUR       8329642 non-null int64\n",
      "GESTAO        8329642 non-null int64\n",
      "RUBRICA       8329642 non-null int64\n",
      "IND_VDRL      8329642 non-null int64\n",
      "MUNIC_MOV     8329642 non-null int64\n",
      "COD_IDADE     8329642 non-null int64\n",
      "IDADE         8329642 non-null int64\n",
      "DIAS_PERM     8329642 non-null int64\n",
      "MORTE         8329642 non-null int64\n",
      "NACIONAL      8329642 non-null int64\n",
      "CAR_INT       8329642 non-null int64\n",
      "HOMONIMO      8329642 non-null int64\n",
      "NUM_FILHOS    8329642 non-null int64\n",
      "INSTRU        8329642 non-null int64\n",
      "CONTRACEP1    8329642 non-null int64\n",
      "CONTRACEP2    8329642 non-null int64\n",
      "GESTRISCO     8329642 non-null int64\n",
      "INSC_PN       8329642 non-null int64\n",
      "SEQ_AIH5      8329642 non-null int64\n",
      "CBOR          8329642 non-null int64\n",
      "CNAER         8329642 non-null int64\n",
      "VINCPREV      8329642 non-null int64\n",
      "GESTOR_COD    8329642 non-null int64\n",
      "GESTOR_TP     8329642 non-null int64\n",
      "GESTOR_CPF    8329642 non-null int64\n",
      "CNES          8329642 non-null int64\n",
      "CID_ASSO      8329642 non-null int64\n",
      "CID_MORTE     8329642 non-null int64\n",
      "COMPLEX       8329642 non-null int64\n",
      "FINANC        8329642 non-null int64\n",
      "REGCT         8329642 non-null int64\n",
      "RACA_COR      8329642 non-null int64\n",
      "ETNIA         8329642 non-null int64\n",
      "SEQUENCIA     8329642 non-null int64\n",
      "REMESSA       8329642 non-null object\n",
      "VAL_SH_FED    8329642 non-null float64\n",
      "VAL_SP_FED    8329642 non-null float64\n",
      "VAL_SH_GES    8329642 non-null float64\n",
      "VAL_SP_GES    8329642 non-null float64\n",
      "VAL_UCI       8329642 non-null float64\n",
      "MARCA_UCI     8315924 non-null object\n",
      "dtypes: float64(11), int64(59), object(3)\n",
      "memory usage: 4.5+ GB\n"
     ]
    }
   ],
   "source": [
    "AIH_sample.info(verbose=True, null_counts=True)"
   ]
  },
  {
   "cell_type": "markdown",
   "metadata": {},
   "source": [
    "### Create column blocks"
   ]
  },
  {
   "cell_type": "code",
   "execution_count": 5,
   "metadata": {},
   "outputs": [],
   "source": [
    "ids = ['UF_ZI','ANO_CMPT','MES_CMPT','CGC_HOSP','N_AIH'\n",
    "       'IDENT','CEP','NAT_JUR','NATUREZA','DESTAO',\n",
    "       'MUNIC_MOV','CID_NOTIF','SEQ_AIH5',\n",
    "       'CNAER','VINCPREV','GESTOR_COD','GESTOR_TP',\n",
    "       'GESTOR_CPF','GESTOR_DT','CNES','CNPJ_MANT',\n",
    "       'SEQUENCIA','HOMONIMO','GESTAO']\n",
    "\n",
    "demo = ['MUNIC_RES','NASC','SEXO','COD_IDADE',\n",
    "        'IDADE','MORTE','NACIONAL','NUM_FILHOS',\n",
    "        'INSTRU','GESTRISCO','CBOR',\n",
    "        'RACA_COR','ETNIA']\n",
    "\n",
    "diag = ['DIAG_PRINC','DIAG_SECUN','COMPLEX']\n",
    "\n",
    "serv = ['ESPEC', 'MARCA_UTI','PROC_SOLIC',\n",
    "        'PROC_REA','IND_VDRL','CONTRACEP1',\n",
    "        'CONTRACEP2','MARCA_UCI']\n",
    "\n",
    "hospi = ['UTI_MES_TO','UTI_INT_TO','DIAR_ACOM',\n",
    "         'QT_DIARIAS','DI_INTER','DT_INTER','DT_SAIDA','COBRANCA',\n",
    "         'DIAS_PERM','CAR_INT','INSC_PN','INFEHOSP',\n",
    "         'CID_ASSO','CID_MORTE']\n",
    "\n",
    "finan = ['VAL_SH','VAL_SP','VAL_TOT','VAL_UTI','US_TOT',\n",
    "         'FINANC','FAEC_TP','REGCT','REMESSA','AUD_JUST',\n",
    "         'SIS_JUST','VAL_SH_FED','VAL_SP_FED','VAL_SH_GES',\n",
    "         'VAL_SP_GES','VAL_UCI']"
   ]
  },
  {
   "cell_type": "code",
   "execution_count": 19,
   "metadata": {},
   "outputs": [
    {
     "name": "stdout",
     "output_type": "stream",
     "text": [
      "73\n"
     ]
    },
    {
     "data": {
      "text/plain": [
       "['UF_ZI',\n",
       " 'ANO_CMPT',\n",
       " 'MES_CMPT',\n",
       " 'ESPEC',\n",
       " 'CGC_HOSP',\n",
       " 'N_AIH',\n",
       " 'IDENT',\n",
       " 'CEP',\n",
       " 'MUNIC_RES',\n",
       " 'NASC',\n",
       " 'SEXO',\n",
       " 'UTI_MES_TO',\n",
       " 'MARCA_UTI',\n",
       " 'UTI_INT_IN',\n",
       " 'UTI_INT_AN',\n",
       " 'UTI_INT_AL',\n",
       " 'UTI_INT_TO',\n",
       " 'DIAR_ACOM',\n",
       " 'QT_DIARIAS',\n",
       " 'PROC_SOLIC',\n",
       " 'PROC_REA',\n",
       " 'VAL_SH',\n",
       " 'VAL_SP',\n",
       " 'VAL_TOT',\n",
       " 'VAL_UTI',\n",
       " 'US_TOT',\n",
       " 'DT_INTER',\n",
       " 'DT_SAIDA',\n",
       " 'DIAG_PRINC',\n",
       " 'DIAG_SECUN',\n",
       " 'COBRANCA',\n",
       " 'NATUREZA',\n",
       " 'NAT_JUR',\n",
       " 'GESTAO',\n",
       " 'RUBRICA',\n",
       " 'IND_VDRL',\n",
       " 'MUNIC_MOV',\n",
       " 'COD_IDADE',\n",
       " 'IDADE',\n",
       " 'DIAS_PERM',\n",
       " 'MORTE',\n",
       " 'NACIONAL',\n",
       " 'CAR_INT',\n",
       " 'HOMONIMO',\n",
       " 'NUM_FILHOS',\n",
       " 'INSTRU',\n",
       " 'CONTRACEP1',\n",
       " 'CONTRACEP2',\n",
       " 'GESTRISCO',\n",
       " 'INSC_PN',\n",
       " 'SEQ_AIH5',\n",
       " 'CBOR',\n",
       " 'CNAER',\n",
       " 'VINCPREV',\n",
       " 'GESTOR_COD',\n",
       " 'GESTOR_TP',\n",
       " 'GESTOR_CPF',\n",
       " 'CNES',\n",
       " 'CID_ASSO',\n",
       " 'CID_MORTE',\n",
       " 'COMPLEX',\n",
       " 'FINANC',\n",
       " 'REGCT',\n",
       " 'RACA_COR',\n",
       " 'ETNIA',\n",
       " 'SEQUENCIA',\n",
       " 'REMESSA',\n",
       " 'VAL_SH_FED',\n",
       " 'VAL_SP_FED',\n",
       " 'VAL_SH_GES',\n",
       " 'VAL_SP_GES',\n",
       " 'VAL_UCI',\n",
       " 'MARCA_UCI']"
      ]
     },
     "execution_count": 19,
     "metadata": {},
     "output_type": "execute_result"
    }
   ],
   "source": [
    "cols = AIH_sample.columns.values.tolist()\n",
    "\n",
    "print(len(cols))\n",
    "\n",
    "cols"
   ]
  },
  {
   "cell_type": "code",
   "execution_count": 24,
   "metadata": {},
   "outputs": [
    {
     "data": {
      "text/plain": [
       "['RUBRICA',\n",
       " 'DT_INTER',\n",
       " 'N_AIH',\n",
       " 'UTI_INT_IN',\n",
       " 'UTI_INT_AN',\n",
       " 'UTI_INT_AL',\n",
       " 'GESTAO']"
      ]
     },
     "execution_count": 24,
     "metadata": {},
     "output_type": "execute_result"
    }
   ],
   "source": [
    "list(set(cols) - set(ids) - set(demo) - set(diag) - set(serv) - set(hospi) - set(finan))"
   ]
  },
  {
   "cell_type": "code",
   "execution_count": 13,
   "metadata": {},
   "outputs": [
    {
     "data": {
      "text/plain": [
       "76"
      ]
     },
     "execution_count": 13,
     "metadata": {},
     "output_type": "execute_result"
    }
   ],
   "source": [
    "# Sanity check. Make sure I have all the columns accounted for.\n",
    "\n",
    "col_check = len(ids) + len(demo) + len(diag) + len(serv) + len(hospi) + len(finan)\n",
    "\n",
    "col_check"
   ]
  },
  {
   "cell_type": "markdown",
   "metadata": {},
   "source": [
    "### Create Dictionary of Variable Definitions for Reference"
   ]
  },
  {
   "cell_type": "code",
   "execution_count": 9,
   "metadata": {},
   "outputs": [
    {
     "data": {
      "text/plain": [
       "{'UF_ZI': {'Type of Field': 'char(6)', 'Description': 'Municipality Manager'},\n",
       " 'ANO_CMPT': {'Type of Field': 'char(4)',\n",
       "  'Description': 'Year of AIH processing, in yyyy format.'},\n",
       " 'MÊS_CMPT': {'Type of Field': 'char(2)',\n",
       "  'Description': 'Month of AIH processing, in mm format.'},\n",
       " 'ESPEC': {'Type of Field': 'char(2)', 'Description': 'Specialty of Bed'},\n",
       " 'CGC_HOSP': {'Type of Field': 'char(14)',\n",
       "  'Description': 'CNPJ of the Establishment'},\n",
       " 'N_AIH': {'Type of Field': 'char(13)', 'Description': 'Number of AIH'},\n",
       " 'IDENT': {'Type of Field': 'char(1)',\n",
       "  'Description': 'Identification of the type of AIH'},\n",
       " 'CEP': {'Type of Field': 'char(8)', 'Description': 'CEP of the patient'},\n",
       " 'MUNIC_RES': {'Type of Field': 'char(6)',\n",
       "  'Description': \"Municipality of Patient's Residence\"},\n",
       " 'NASC': {'Type of Field': 'char(8)',\n",
       "  'Description': 'Date of birth of the patient (yyyammdd)'},\n",
       " 'SEXO': {'Type of Field': 'char(1)', 'Description': 'Sex of patient'},\n",
       " 'UTI_MES_IN': {'Type of Field': 'numeric(2)', 'Description': 'Reset'},\n",
       " 'UTI_MES_AN': {'Type of Field': 'numeric(2)', 'Description': 'Reset'},\n",
       " 'UTI_MES_AL': {'Type of Field': 'numeric(2)', 'Description': 'Reset'},\n",
       " 'UTI_MES_TO': {'Type of Field': 'numeric(3)',\n",
       "  'Description': 'Number of ICU days in the month'},\n",
       " 'MARCA_UTI': {'Type of Field': 'char(2)',\n",
       "  'Description': 'Indicates the type of ICU used by the patient'},\n",
       " 'UTI_INT_IN': {'Type of Field': 'numeric(2)', 'Description': 'Reset'},\n",
       " 'UTI_INT_AN': {'Type of Field': 'numeric(2)', 'Description': 'Reset'},\n",
       " 'UTI_INT_AL': {'Type of Field': 'numeric(2)', 'Description': 'Reset'},\n",
       " 'UTI_INT_TO': {'Type of Field': 'numeric(3)',\n",
       "  'Description': 'Number of nights in intermediate unit'},\n",
       " 'DIAR_ACOM': {'Type of Field': 'numeric(3)',\n",
       "  'Description': 'Number of companion nights'},\n",
       " 'QT_DIARIAS': {'Type of Field': 'numeric(3)',\n",
       "  'Description': 'Number of nights'},\n",
       " 'PROC_SOLIC': {'Type of Field': 'char(10)',\n",
       "  'Description': 'Procedure requested'},\n",
       " 'PROC_REA': {'Type of Field': 'char(10)',\n",
       "  'Description': 'Procedure performed'},\n",
       " 'VAL_SH': {'Type of Field': 'numeric(13,2)',\n",
       "  'Description': 'Value of hospital services'},\n",
       " 'VAL_SP': {'Type of Field': 'numeric(13,2)',\n",
       "  'Description': 'Value of professional services'},\n",
       " 'VAL_SADT': {'Type of Field': 'numeric(13,2)', 'Description': 'Reset'},\n",
       " 'VAL_RN': {'Type of Field': 'numeric(13,2)', 'Description': 'Reset'},\n",
       " 'VAL_ACOMP': {'Type of Field': 'numeric(13,2)', 'Description': 'Reset'},\n",
       " 'VAL_ORTP': {'Type of Field': 'numeric(13,2)', 'Description': 'Reset'},\n",
       " 'VAL_SANGUE': {'Type of Field': 'numeric(13,2)', 'Description': 'Reset'},\n",
       " 'VAL_SADTSR': {'Type of Field': 'numeric(11,2)', 'Description': 'Reset'},\n",
       " 'VAL_TRANSP': {'Type of Field': 'numeric(13,2)', 'Description': 'Reset'},\n",
       " 'VAL_OBSANG': {'Type of Field': 'numeric(11,2)', 'Description': 'Reset'},\n",
       " 'VAL_PED1AC': {'Type of Field': 'numeric(11,2)', 'Description': 'Reset'},\n",
       " 'VAL_TOT': {'Type of Field': 'numeric(14,2)',\n",
       "  'Description': 'Total value of the AIH'},\n",
       " 'VAL_UTI': {'Type of Field': 'numeric(8,2)', 'Description': 'Value of ICU'},\n",
       " 'US_TOT': {'Type of Field': 'numeric(10,2)',\n",
       "  'Description': 'Total value, in US dollars'},\n",
       " 'DI_INTER': {'Type of Field': 'char(8)',\n",
       "  'Description': 'Date of hospitalization in aaammdd format'},\n",
       " 'DT_SAIDA': {'Type of Field': 'char(8)',\n",
       "  'Description': 'Exit date in yyyammdd format'},\n",
       " 'DIAG_PRINC': {'Type of Field': 'char(4)',\n",
       "  'Description': 'Code of the main diagnosis (CID10)'},\n",
       " 'DIAG_SECUN': {'Type of Field': 'char(4)',\n",
       "  'Description': 'Secondary diagnosis code (ICD10). Filled with zeros from 201501.'},\n",
       " 'COBRANCA': {'Type of Field': 'char(2)',\n",
       "  'Description': 'Reason for Exit / Stay'},\n",
       " 'NATUREZA': {'Type of Field': 'char(2)',\n",
       "  'Description': 'Legal nature of the hospital (with content until May / 12). It was used the classification of Regime and Nature.'},\n",
       " 'NAT_JUR': {'Type of Field': 'char(4)',\n",
       "  'Description': 'Legal nature of the establishment, as the Commission National classification - CONCLA'},\n",
       " 'DESTAO': {'Type of Field': 'char(1)',\n",
       "  'Description': 'Type of hospital management'},\n",
       " 'RUBRICA': {'Type of Field': 'numeric(5)', 'Description': 'Reset'},\n",
       " 'IND_VDRL': {'Type of Field': 'char(1)',\n",
       "  'Description': 'Indicates VDRL exam'},\n",
       " 'MUNIC_MOV': {'Type of Field': 'char(6)',\n",
       "  'Description': 'Municipality of the Establishment'},\n",
       " 'COD_IDADE': {'Type of Field': 'char(1)',\n",
       "  'Description': 'Unit of measure of age'},\n",
       " 'IDADE': {'Type of Field': 'numeric(2)', 'Description': 'Age'},\n",
       " 'DIAS_PERM': {'Type of Field': 'numeric(5)', 'Description': 'Days of Stay'},\n",
       " 'MORTE': {'Type of Field': 'numeric(1)', 'Description': 'Indicates Death'},\n",
       " 'NACIONAL': {'Type of Field': 'char(2)',\n",
       "  'Description': 'Code of nationality of the patient'},\n",
       " 'NUM_PROC': {'Type of Field': 'char(4)', 'Description': 'Reset'},\n",
       " 'CAR_INT': {'Type of Field': 'char(2)',\n",
       "  'Description': 'Character of hospitalization'},\n",
       " 'TOT_PT_SP': {'Type of Field': 'numeric(6)', 'Description': 'Reset'},\n",
       " 'CPF_AUT': {'Type of Field': 'char(11)', 'Description': 'Reset'},\n",
       " 'HOMONIMO': {'Type of Field': 'char(1)',\n",
       "  'Description': 'Indicator if the patient of the AIH is homonymous with the another AIH.'},\n",
       " 'NUM_FILHOS': {'Type of Field': 'numeric(2)',\n",
       "  'Description': 'Number of children of the patient'},\n",
       " 'INSTRU': {'Type of Field': 'char(1)',\n",
       "  'Description': 'Degree of instruction of the patient'},\n",
       " 'CID_NOTIF': {'Type of Field': 'char(4)',\n",
       "  'Description': 'CID of Notification'},\n",
       " 'CONTRACEP1': {'Type of Field': 'char(2)',\n",
       "  'Description': 'Type of contraceptive used'},\n",
       " 'CONTRACEP2': {'Type of Field': 'char(2)',\n",
       "  'Description': 'Second type of contraceptive used'},\n",
       " 'GESTRISCO': {'Type of Field': 'char(1)',\n",
       "  'Description': 'Indicator if pregnant at risk'},\n",
       " 'INSC_PN': {'Type of Field': 'char(12)',\n",
       "  'Description': 'Number of the pregnant woman in prenatal care'},\n",
       " 'SEQ_AIH5': {'Type of Field': 'char(3)',\n",
       "  'Description': 'Long-stay sequential (AIH type 5)'},\n",
       " 'CBOR': {'Type of Field': 'char(3)',\n",
       "  'Description': 'Occupancy of the patient, according to the Brazilian Occupations - CBO.'},\n",
       " 'CNAER': {'Type of Field': 'char(3)', 'Description': 'Work accident code'},\n",
       " 'VINCPREV': {'Type of Field': 'char(1)',\n",
       "  'Description': 'Link with the Pension Fund'},\n",
       " 'GESTOR_COD': {'Type of Field': 'char(3)',\n",
       "  'Description': 'Reason for authorization of the AIH by the Manager'},\n",
       " 'GESTOR_TP': {'Type of Field': 'char(1)', 'Description': 'Type of manager'},\n",
       " 'GESTOR_CPF': {'Type of Field': 'char(11)',\n",
       "  'Description': \"Manager's CPF number\"},\n",
       " 'GESTOR_DT': {'Type of Field': 'char(8)',\n",
       "  'Description': 'Date of authorization given by the Manager (yyyammdd)'},\n",
       " 'CNES': {'Type of Field': 'char(7)',\n",
       "  'Description': 'CNES code of the hospital'},\n",
       " 'CNPJ_MANT': {'Type of Field': 'char(14)',\n",
       "  'Description': 'CNPJ of the maintainer'},\n",
       " 'INFEHOSP': {'Type of Field': 'char(1)',\n",
       "  'Description': 'Hospital infection status'},\n",
       " 'CID_ASSO': {'Type of Field': 'char(4)', 'Description': 'CID causes'},\n",
       " 'CID_MORTE': {'Type of Field': 'char(4)', 'Description': 'CID of death'},\n",
       " 'COMPLEX': {'Type of Field': 'char(2)', 'Description': 'Complexity'},\n",
       " 'FINANC': {'Type of Field': 'char(2)', 'Description': 'Type of financing'},\n",
       " 'FAEC_TP': {'Type of Field': 'char(6)',\n",
       "  'Description': 'Financing subtype FAEC'},\n",
       " 'REGCT': {'Type of Field': 'char(4)', 'Description': 'Contract rule'},\n",
       " 'RACA_COR': {'Type of Field': 'char(4)',\n",
       "  'Description': 'Race / Color of the patient'},\n",
       " 'ETNIA': {'Type of Field': 'char(4)',\n",
       "  'Description': 'Ethnicity of patient, if race color is indigenous'},\n",
       " 'SEQUENCIA': {'Type of Field': 'numeric(9)',\n",
       "  'Description': 'Sequential of the AIH in the consignment'},\n",
       " 'REMESSA': {'Type of Field': 'char(21)', 'Description': 'Shipping number'},\n",
       " 'AUD_JUST': {'Type of Field': 'char (50)',\n",
       "  'Description': \"Auditor's justification for acceptance of the IAI without the National Health Card.\"},\n",
       " 'SIS_JUST': {'Type of Field': 'char (50)',\n",
       "  'Description': 'Rationale of the establishment for acceptance of the AIH without number of the National Health Card'},\n",
       " 'VAL_SH_FED': {'Type of Field': 'numeric (10, 2)',\n",
       "  'Description': 'Value of the federal complement of hospital services. It is included in the total value of the AIH.'},\n",
       " 'VAL_SP_FED': {'Type of Field': 'numeric (10, 2)',\n",
       "  'Description': 'Value of the federal complement of professional services. It is included in the total value of the AIH.'},\n",
       " 'VAL_SH_GES': {'Type of Field': 'numeric (10, 2)',\n",
       "  'Description': 'Value of the complement of the manager (state or municipal) of hospital services. It is included in the total value of the AIH.'},\n",
       " 'VAL_SP_GES': {'Type of Field': 'numeric (10, 2)',\n",
       "  'Description': 'Value of the complement of the manager (state or municipal) of profesional services.It is included in the total value of the AIH.'},\n",
       " 'VAL_UCI': {'Type of Field': 'numeric (10, 2)',\n",
       "  'Description': 'Value of ICU.'},\n",
       " 'MARCA_UCI': {'Type of Field': 'char (2)',\n",
       "  'Description': 'Type of ICU used by the patient.'},\n",
       " 'DIAGSEC1': {'Type of Field': 'char (4)',\n",
       "  'Description': 'Secondary diagnosis1'},\n",
       " 'DIAGSEC2': {'Type of Field': 'char (4)',\n",
       "  'Description': 'Secondary diagnosis2'},\n",
       " 'DIAGSEC3': {'Type of Field': 'char (4)',\n",
       "  'Description': 'Secondary diagnosis3'},\n",
       " 'DIAGSEC4': {'Type of Field': 'char (4)',\n",
       "  'Description': 'Secondary diagnosis4'},\n",
       " 'DIAGSEC5': {'Type of Field': 'char (4)',\n",
       "  'Description': 'Secondary diagnosis5'},\n",
       " 'DIAGSEC6': {'Type of Field': 'char (4)',\n",
       "  'Description': 'Secondary diagnosis6'},\n",
       " 'DIAGSEC7': {'Type of Field': 'char (4)',\n",
       "  'Description': 'Secondary diagnosis7'},\n",
       " 'DIAGSEC8': {'Type of Field': 'char (4)',\n",
       "  'Description': 'Secondary diagnosis8'},\n",
       " 'DIAGSEC9': {'Type of Field': 'char (4)',\n",
       "  'Description': 'Secondary diagnosis9'},\n",
       " 'TPDISEC1': {'Type of Field': 'char(1)',\n",
       "  'Description': 'Type of secondary diagnosis 1'},\n",
       " 'TPDISEC2': {'Type of Field': 'char(1)',\n",
       "  'Description': 'Type of secondary diagnosis 2'},\n",
       " 'TPDISEC3': {'Type of Field': 'char(1)',\n",
       "  'Description': 'Type of secondary diagnosis 3'},\n",
       " 'TPDISEC4': {'Type of Field': 'char(1)',\n",
       "  'Description': 'Type of secondary diagnosis 4'},\n",
       " 'TPDISEC5': {'Type of Field': 'char(1)',\n",
       "  'Description': 'Type of secondary diagnosis 5'},\n",
       " 'TPDISEC6': {'Type of Field': 'char(1)',\n",
       "  'Description': 'Type of secondary diagnosis 6'},\n",
       " 'TPDISEC7': {'Type of Field': 'char(1)',\n",
       "  'Description': 'Type of secondary diagnosis 7'},\n",
       " 'TPDISEC8': {'Type of Field': 'char(1)',\n",
       "  'Description': 'Type of secondary diagnosis 8'},\n",
       " 'TPDISEC9': {'Type of Field': 'char(1)',\n",
       "  'Description': 'Type of secondary diagnosis 9'}}"
      ]
     },
     "execution_count": 9,
     "metadata": {},
     "output_type": "execute_result"
    }
   ],
   "source": [
    "var_spread_path = ('/Users/ivettetapia 1/Symbolic Link Seagate Drive/Springboard/Capstone 2_Deep_Learning/References/IT_SIHSUS_1603_DataDict.xlsx')\n",
    "\n",
    "var_df = pd.read_excel(var_spread_path, index_col = 'Field_Name')\n",
    "\n",
    "var_def_dict = var_df.to_dict(orient = 'index')\n",
    "\n",
    "var_def_dict"
   ]
  },
  {
   "cell_type": "markdown",
   "metadata": {},
   "source": [
    "### Demographics Bloc "
   ]
  },
  {
   "cell_type": "markdown",
   "metadata": {},
   "source": [
    "> Create demographics dataframe"
   ]
  },
  {
   "cell_type": "markdown",
   "metadata": {},
   "source": [
    "+ Descriptives\n",
    "+ Histogram/Grids\n",
    "+ CDF\n",
    "+ Unique Values\n",
    "+ Heatmaps"
   ]
  },
  {
   "cell_type": "code",
   "execution_count": null,
   "metadata": {},
   "outputs": [],
   "source": []
  },
  {
   "cell_type": "code",
   "execution_count": null,
   "metadata": {},
   "outputs": [],
   "source": []
  },
  {
   "cell_type": "code",
   "execution_count": null,
   "metadata": {},
   "outputs": [],
   "source": []
  }
 ],
 "metadata": {
  "kernelspec": {
   "display_name": "Python 3",
   "language": "python",
   "name": "python3"
  },
  "language_info": {
   "codemirror_mode": {
    "name": "ipython",
    "version": 3
   },
   "file_extension": ".py",
   "mimetype": "text/x-python",
   "name": "python",
   "nbconvert_exporter": "python",
   "pygments_lexer": "ipython3",
   "version": "3.6.5"
  }
 },
 "nbformat": 4,
 "nbformat_minor": 2
}
