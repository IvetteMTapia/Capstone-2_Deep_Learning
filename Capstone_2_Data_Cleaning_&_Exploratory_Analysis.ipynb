{
 "cells": [
  {
   "cell_type": "markdown",
   "metadata": {
    "colab_type": "text",
    "id": "22mhO5tdrfsA"
   },
   "source": [
    "## Import Libraries"
   ]
  },
  {
   "cell_type": "code",
   "execution_count": 1,
   "metadata": {
    "colab": {},
    "colab_type": "code",
    "id": "vbeE0-_lltw6"
   },
   "outputs": [],
   "source": [
    "import pandas as pd\n",
    "import matplotlib.pyplot as plt\n",
    "import numpy as np"
   ]
  },
  {
   "cell_type": "markdown",
   "metadata": {
    "colab_type": "text",
    "id": "dOvJkfALrk80"
   },
   "source": [
    "## Authorization for Hospital Admission Data"
   ]
  },
  {
   "cell_type": "markdown",
   "metadata": {
    "colab_type": "text",
    "id": "pdeTQsMppurR"
   },
   "source": [
    "The AIH datasets contains data on hospital production and services in Brazil. The data that will be used here is the Authorization for Hospital Admission. This dataset is part of `Brazil’s SIHSUS Hospital Information System`. This system manages the coordination and payment by Brazil’s public healthcare system (covers around 34% of Brazil’s population). In this application, I will be using data from 2015 – 2018. This represents 3.5 years’ of information.\n",
    "\n",
    "A record in the AIH database is created when a hospital or healthcare unit generates a request for hospitalization. Providers submit demographic and health information about the patient. This request is ultimately approved or rejected. While the patient is in the hospital, the record is updated to also contain information about procedures performed and discharge. \n",
    "\n",
    "More information about this data can be found below: \n",
    "\n",
    "* [DataSUS Website](http://datasus.saude.gov.br/informacoes-de-saude)\n",
    "* [AIH Data Fields](https://github.com/IvetteMTapia/Capstone-2_Deep_Learning/blob/master/IT_SIHSUS_1603_DataDict.pdf)\n"
   ]
  },
  {
   "cell_type": "markdown",
   "metadata": {
    "colab_type": "text",
    "id": "iJXaNOlWrxT1"
   },
   "source": [
    "## Data Pre -  Processing Information"
   ]
  },
  {
   "cell_type": "markdown",
   "metadata": {
    "colab_type": "text",
    "id": "U23yFLVKmEUp"
   },
   "source": [
    "* Due to the size of the files, the data was extracted to a local machine. The extraction website can be found at: [DataSUS public file download site](http://www2.datasus.gov.br/DATASUS/index.php?area=0901).\n",
    "\n",
    "* The format of the files at extraction was .dbc. The .dbc format compresses .dbf files. This format is propetary and used by Brazil's IT department to distribute the large files in their database. The .dbc files are a compressed version of .dbf files. \n",
    "\n",
    "* I have already done the pre-procesing step of converting the .dbc files to .csv files using R. The R envioroment has a R package specifically written to read and de-compresss these type of files. You can find the R code used for the  conversion [here](https://github.com/IvetteMTapia/Capstone-2_Deep_Learning/blob/master/Convert%20from%20dbc%20to%20CSV.R)."
   ]
  },
  {
   "cell_type": "markdown",
   "metadata": {
    "colab_type": "text",
    "id": "RTgR-LMFvZUQ"
   },
   "source": [
    "## Create Dictionary of Variable Definitions for Reference"
   ]
  },
  {
   "cell_type": "markdown",
   "metadata": {
    "colab_type": "text",
    "id": "lIsp28H-Q-0a"
   },
   "source": [
    "* *This dictionary contains dataset variables type and description information.*"
   ]
  },
  {
   "cell_type": "code",
   "execution_count": 2,
   "metadata": {
    "colab": {
     "base_uri": "https://localhost:8080/",
     "height": 136
    },
    "colab_type": "code",
    "id": "zCFexHXjvek2",
    "outputId": "3a7ebd03-1396-4b99-8908-bb5117b56efe"
   },
   "outputs": [
    {
     "name": "stdout",
     "output_type": "stream",
     "text": [
      "<class 'pandas.core.frame.DataFrame'>\n",
      "Index: 113 entries, UF_ZI to TPDISEC9\n",
      "Data columns (total 2 columns):\n",
      "Type of Field    113 non-null object\n",
      "Description      113 non-null object\n",
      "dtypes: object(2)\n",
      "memory usage: 2.6+ KB\n"
     ]
    }
   ],
   "source": [
    "var_spread_path = ('/Users/ivettetapia 1/Symbolic Link Seagate Drive/Springboard/Capstone 2_Deep_Learning/Data/IT_SIHSUS_1603_DataDict.xlsx')\n",
    "\n",
    "var_df = pd.read_excel(var_spread_path, index_col = 'Field_Name')\n",
    "var_df.info()"
   ]
  },
  {
   "cell_type": "code",
   "execution_count": 3,
   "metadata": {
    "colab": {
     "base_uri": "https://localhost:8080/",
     "height": 3267
    },
    "colab_type": "code",
    "id": "ekmpRVt9bOal",
    "outputId": "dc86a481-af0c-4b01-90fa-4f76b059a351"
   },
   "outputs": [
    {
     "data": {
      "text/plain": [
       "{'UF_ZI': {'Type of Field': 'char(6)', 'Description': 'Municipality Manager'},\n",
       " 'ANO_CMPT': {'Type of Field': 'char(4)',\n",
       "  'Description': 'Year of AIH processing, in yyyy format.'},\n",
       " 'MÊS_CMPT': {'Type of Field': 'char(2)',\n",
       "  'Description': 'Month of AIH processing, in mm format.'},\n",
       " 'ESPEC': {'Type of Field': 'char(2)', 'Description': 'Specialty of Bed'},\n",
       " 'CGC_HOSP': {'Type of Field': 'char(14)',\n",
       "  'Description': 'CNPJ of the Establishment'},\n",
       " 'N_AIH': {'Type of Field': 'char(13)', 'Description': 'Number of AIH'},\n",
       " 'IDENT': {'Type of Field': 'char(1)',\n",
       "  'Description': 'Identification of the type of AIH'},\n",
       " 'CEP': {'Type of Field': 'char(8)', 'Description': 'CEP of the patient'},\n",
       " 'MUNIC_RES': {'Type of Field': 'char(6)',\n",
       "  'Description': \"Municipality of Patient's Residence\"},\n",
       " 'NASC': {'Type of Field': 'char(8)',\n",
       "  'Description': 'Date of birth of the patient (yyyammdd)'},\n",
       " 'SEXO': {'Type of Field': 'char(1)', 'Description': 'Sex of patient'},\n",
       " 'UTI_MES_IN': {'Type of Field': 'numeric(2)', 'Description': 'Reset'},\n",
       " 'UTI_MES_AN': {'Type of Field': 'numeric(2)', 'Description': 'Reset'},\n",
       " 'UTI_MES_AL': {'Type of Field': 'numeric(2)', 'Description': 'Reset'},\n",
       " 'UTI_MES_TO': {'Type of Field': 'numeric(3)',\n",
       "  'Description': 'Number of ICU days in the month'},\n",
       " 'MARCA_UTI': {'Type of Field': 'char(2)',\n",
       "  'Description': 'Indicates the type of ICU used by the patient'},\n",
       " 'UTI_INT_IN': {'Type of Field': 'numeric(2)', 'Description': 'Reset'},\n",
       " 'UTI_INT_AN': {'Type of Field': 'numeric(2)', 'Description': 'Reset'},\n",
       " 'UTI_INT_AL': {'Type of Field': 'numeric(2)', 'Description': 'Reset'},\n",
       " 'UTI_INT_TO': {'Type of Field': 'numeric(3)',\n",
       "  'Description': 'Number of nights in intermediate unit'},\n",
       " 'DIAR_ACOM': {'Type of Field': 'numeric(3)',\n",
       "  'Description': 'Number of companion nights'},\n",
       " 'QT_DIARIAS': {'Type of Field': 'numeric(3)',\n",
       "  'Description': 'Number of nights'},\n",
       " 'PROC_SOLIC': {'Type of Field': 'char(10)',\n",
       "  'Description': 'Procedure requested'},\n",
       " 'PROC_REA': {'Type of Field': 'char(10)',\n",
       "  'Description': 'Procedure performed'},\n",
       " 'VAL_SH': {'Type of Field': 'numeric(13,2)',\n",
       "  'Description': 'Value of hospital services'},\n",
       " 'VAL_SP': {'Type of Field': 'numeric(13,2)',\n",
       "  'Description': 'Value of professional services'},\n",
       " 'VAL_SADT': {'Type of Field': 'numeric(13,2)', 'Description': 'Reset'},\n",
       " 'VAL_RN': {'Type of Field': 'numeric(13,2)', 'Description': 'Reset'},\n",
       " 'VAL_ACOMP': {'Type of Field': 'numeric(13,2)', 'Description': 'Reset'},\n",
       " 'VAL_ORTP': {'Type of Field': 'numeric(13,2)', 'Description': 'Reset'},\n",
       " 'VAL_SANGUE': {'Type of Field': 'numeric(13,2)', 'Description': 'Reset'},\n",
       " 'VAL_SADTSR': {'Type of Field': 'numeric(11,2)', 'Description': 'Reset'},\n",
       " 'VAL_TRANSP': {'Type of Field': 'numeric(13,2)', 'Description': 'Reset'},\n",
       " 'VAL_OBSANG': {'Type of Field': 'numeric(11,2)', 'Description': 'Reset'},\n",
       " 'VAL_PED1AC': {'Type of Field': 'numeric(11,2)', 'Description': 'Reset'},\n",
       " 'VAL_TOT': {'Type of Field': 'numeric(14,2)',\n",
       "  'Description': 'Total value of the AIH'},\n",
       " 'VAL_UTI': {'Type of Field': 'numeric(8,2)', 'Description': 'Value of ICU'},\n",
       " 'US_TOT': {'Type of Field': 'numeric(10,2)',\n",
       "  'Description': 'Total value, in US dollars'},\n",
       " 'DI_INTER': {'Type of Field': 'char(8)',\n",
       "  'Description': 'Date of hospitalization in aaammdd format'},\n",
       " 'DT_SAIDA': {'Type of Field': 'char(8)',\n",
       "  'Description': 'Exit date in yyyammdd format'},\n",
       " 'DIAG_PRINC': {'Type of Field': 'char(4)',\n",
       "  'Description': 'Code of the main diagnosis (CID10)'},\n",
       " 'DIAG_SECUN': {'Type of Field': 'char(4)',\n",
       "  'Description': 'Secondary diagnosis code (ICD10). Filled with zeros from 201501.'},\n",
       " 'COBRANCA': {'Type of Field': 'char(2)',\n",
       "  'Description': 'Reason for Exit / Stay'},\n",
       " 'NATUREZA': {'Type of Field': 'char(2)',\n",
       "  'Description': 'Legal nature of the hospital (with content until May / 12). It was used the classification of Regime and Nature.'},\n",
       " 'NAT_JUR': {'Type of Field': 'char(4)',\n",
       "  'Description': 'Legal nature of the establishment, as the Commission National classification - CONCLA'},\n",
       " 'DESTAO': {'Type of Field': 'char(1)',\n",
       "  'Description': 'Type of hospital management'},\n",
       " 'RUBRICA': {'Type of Field': 'numeric(5)', 'Description': 'Reset'},\n",
       " 'IND_VDRL': {'Type of Field': 'char(1)',\n",
       "  'Description': 'Indicates VDRL exam'},\n",
       " 'MUNIC_MOV': {'Type of Field': 'char(6)',\n",
       "  'Description': 'Municipality of the Establishment'},\n",
       " 'COD_IDADE': {'Type of Field': 'char(1)',\n",
       "  'Description': 'Unit of measure of age'},\n",
       " 'IDADE': {'Type of Field': 'numeric(2)', 'Description': 'Age'},\n",
       " 'DIAS_PERM': {'Type of Field': 'numeric(5)', 'Description': 'Days of Stay'},\n",
       " 'MORTE': {'Type of Field': 'numeric(1)', 'Description': 'Indicates Death'},\n",
       " 'NACIONAL': {'Type of Field': 'char(2)',\n",
       "  'Description': 'Code of nationality of the patient'},\n",
       " 'NUM_PROC': {'Type of Field': 'char(4)', 'Description': 'Reset'},\n",
       " 'CAR_INT': {'Type of Field': 'char(2)',\n",
       "  'Description': 'Character of hospitalization'},\n",
       " 'TOT_PT_SP': {'Type of Field': 'numeric(6)', 'Description': 'Reset'},\n",
       " 'CPF_AUT': {'Type of Field': 'char(11)', 'Description': 'Reset'},\n",
       " 'HOMONIMO': {'Type of Field': 'char(1)',\n",
       "  'Description': 'Indicator if the patient of the AIH is homonymous with the another AIH.'},\n",
       " 'NUM_FILHOS': {'Type of Field': 'numeric(2)',\n",
       "  'Description': 'Number of children of the patient'},\n",
       " 'INSTRU': {'Type of Field': 'char(1)',\n",
       "  'Description': 'Degree of instruction of the patient'},\n",
       " 'CID_NOTIF': {'Type of Field': 'char(4)',\n",
       "  'Description': 'CID of Notification'},\n",
       " 'CONTRACEP1': {'Type of Field': 'char(2)',\n",
       "  'Description': 'Type of contraceptive used'},\n",
       " 'CONTRACEP2': {'Type of Field': 'char(2)',\n",
       "  'Description': 'Second type of contraceptive used'},\n",
       " 'GESTRISCO': {'Type of Field': 'char(1)',\n",
       "  'Description': 'Indicator if pregnant at risk'},\n",
       " 'INSC_PN': {'Type of Field': 'char(12)',\n",
       "  'Description': 'Number of the pregnant woman in prenatal care'},\n",
       " 'SEQ_AIH5': {'Type of Field': 'char(3)',\n",
       "  'Description': 'Long-stay sequential (AIH type 5)'},\n",
       " 'CBOR': {'Type of Field': 'char(3)',\n",
       "  'Description': 'Occupancy of the patient, according to the Brazilian Occupations - CBO.'},\n",
       " 'CNAER': {'Type of Field': 'char(3)', 'Description': 'Work accident code'},\n",
       " 'VINCPREV': {'Type of Field': 'char(1)',\n",
       "  'Description': 'Link with the Pension Fund'},\n",
       " 'GESTOR_COD': {'Type of Field': 'char(3)',\n",
       "  'Description': 'Reason for authorization of the AIH by the Manager'},\n",
       " 'GESTOR_TP': {'Type of Field': 'char(1)', 'Description': 'Type of manager'},\n",
       " 'GESTOR_CPF': {'Type of Field': 'char(11)',\n",
       "  'Description': \"Manager's CPF number\"},\n",
       " 'GESTOR_DT': {'Type of Field': 'char(8)',\n",
       "  'Description': 'Date of authorization given by the Manager (yyyammdd)'},\n",
       " 'CNES': {'Type of Field': 'char(7)',\n",
       "  'Description': 'CNES code of the hospital'},\n",
       " 'CNPJ_MANT': {'Type of Field': 'char(14)',\n",
       "  'Description': 'CNPJ of the maintainer'},\n",
       " 'INFEHOSP': {'Type of Field': 'char(1)',\n",
       "  'Description': 'Hospital infection status'},\n",
       " 'CID_ASSO': {'Type of Field': 'char(4)', 'Description': 'CID causes'},\n",
       " 'CID_MORTE': {'Type of Field': 'char(4)', 'Description': 'CID of death'},\n",
       " 'COMPLEX': {'Type of Field': 'char(2)', 'Description': 'Complexity'},\n",
       " 'FINANC': {'Type of Field': 'char(2)', 'Description': 'Type of financing'},\n",
       " 'FAEC_TP': {'Type of Field': 'char(6)',\n",
       "  'Description': 'Financing subtype FAEC'},\n",
       " 'REGCT': {'Type of Field': 'char(4)', 'Description': 'Contract rule'},\n",
       " 'RACA_COR': {'Type of Field': 'char(4)',\n",
       "  'Description': 'Race / Color of the patient'},\n",
       " 'ETNIA': {'Type of Field': 'char(4)',\n",
       "  'Description': 'Ethnicity of patient, if race color is indigenous'},\n",
       " 'SEQUENCIA': {'Type of Field': 'numeric(9)',\n",
       "  'Description': 'Sequential of the AIH in the consignment'},\n",
       " 'REMESSA': {'Type of Field': 'char(21)', 'Description': 'Shipping number'},\n",
       " 'AUD_JUST': {'Type of Field': 'char (50)',\n",
       "  'Description': \"Auditor's justification for acceptance of the IAI without the National Health Card.\"},\n",
       " 'SIS_JUST': {'Type of Field': 'char (50)',\n",
       "  'Description': 'Rationale of the establishment for acceptance of the AIH without number of the National Health Card'},\n",
       " 'VAL_SH_FED': {'Type of Field': 'numeric (10, 2)',\n",
       "  'Description': 'Value of the federal complement of hospital services. It is included in the total value of the AIH.'},\n",
       " 'VAL_SP_FED': {'Type of Field': 'numeric (10, 2)',\n",
       "  'Description': 'Value of the federal complement of professional services. It is included in the total value of the AIH.'},\n",
       " 'VAL_SH_GES': {'Type of Field': 'numeric (10, 2)',\n",
       "  'Description': 'Value of the complement of the manager (state or municipal) of hospital services. It is included in the total value of the AIH.'},\n",
       " 'VAL_SP_GES': {'Type of Field': 'numeric (10, 2)',\n",
       "  'Description': 'Value of the complement of the manager (state or municipal) of profesional services.It is included in the total value of the AIH.'},\n",
       " 'VAL_UCI': {'Type of Field': 'numeric (10, 2)',\n",
       "  'Description': 'Value of ICU.'},\n",
       " 'MARCA_UCI': {'Type of Field': 'char (2)',\n",
       "  'Description': 'Type of ICU used by the patient.'},\n",
       " 'DIAGSEC1': {'Type of Field': 'char (4)',\n",
       "  'Description': 'Secondary diagnosis1'},\n",
       " 'DIAGSEC2': {'Type of Field': 'char (4)',\n",
       "  'Description': 'Secondary diagnosis2'},\n",
       " 'DIAGSEC3': {'Type of Field': 'char (4)',\n",
       "  'Description': 'Secondary diagnosis3'},\n",
       " 'DIAGSEC4': {'Type of Field': 'char (4)',\n",
       "  'Description': 'Secondary diagnosis4'},\n",
       " 'DIAGSEC5': {'Type of Field': 'char (4)',\n",
       "  'Description': 'Secondary diagnosis5'},\n",
       " 'DIAGSEC6': {'Type of Field': 'char (4)',\n",
       "  'Description': 'Secondary diagnosis6'},\n",
       " 'DIAGSEC7': {'Type of Field': 'char (4)',\n",
       "  'Description': 'Secondary diagnosis7'},\n",
       " 'DIAGSEC8': {'Type of Field': 'char (4)',\n",
       "  'Description': 'Secondary diagnosis8'},\n",
       " 'DIAGSEC9': {'Type of Field': 'char (4)',\n",
       "  'Description': 'Secondary diagnosis9'},\n",
       " 'TPDISEC1': {'Type of Field': 'char(1)',\n",
       "  'Description': 'Type of secondary diagnosis 1'},\n",
       " 'TPDISEC2': {'Type of Field': 'char(1)',\n",
       "  'Description': 'Type of secondary diagnosis 2'},\n",
       " 'TPDISEC3': {'Type of Field': 'char(1)',\n",
       "  'Description': 'Type of secondary diagnosis 3'},\n",
       " 'TPDISEC4': {'Type of Field': 'char(1)',\n",
       "  'Description': 'Type of secondary diagnosis 4'},\n",
       " 'TPDISEC5': {'Type of Field': 'char(1)',\n",
       "  'Description': 'Type of secondary diagnosis 5'},\n",
       " 'TPDISEC6': {'Type of Field': 'char(1)',\n",
       "  'Description': 'Type of secondary diagnosis 6'},\n",
       " 'TPDISEC7': {'Type of Field': 'char(1)',\n",
       "  'Description': 'Type of secondary diagnosis 7'},\n",
       " 'TPDISEC8': {'Type of Field': 'char(1)',\n",
       "  'Description': 'Type of secondary diagnosis 8'},\n",
       " 'TPDISEC9': {'Type of Field': 'char(1)',\n",
       "  'Description': 'Type of secondary diagnosis 9'}}"
      ]
     },
     "execution_count": 3,
     "metadata": {},
     "output_type": "execute_result"
    }
   ],
   "source": [
    "var_def_dict = var_df.to_dict(orient = 'index')\n",
    "var_def_dict"
   ]
  },
  {
   "cell_type": "markdown",
   "metadata": {},
   "source": [
    "## Sample file"
   ]
  },
  {
   "cell_type": "markdown",
   "metadata": {},
   "source": [
    "*Loading the larger files takes a long time*"
   ]
  },
  {
   "cell_type": "code",
   "execution_count": 4,
   "metadata": {},
   "outputs": [],
   "source": [
    "sample_2017_path = ('/Users/ivettetapia 1/Symbolic Link Seagate Drive/Springboard/Capstone 2_Deep_Learning/Data/sample_2017.csv')"
   ]
  },
  {
   "cell_type": "markdown",
   "metadata": {},
   "source": [
    "Open small sample file from 2017. Use only first five columns."
   ]
  },
  {
   "cell_type": "code",
   "execution_count": 15,
   "metadata": {},
   "outputs": [
    {
     "name": "stdout",
     "output_type": "stream",
     "text": [
      "CPU times: user 92.5 ms, sys: 8.44 ms, total: 101 ms\n",
      "Wall time: 100 ms\n"
     ]
    }
   ],
   "source": [
    "%%time\n",
    "\n",
    "sample_2017_1 = pd.read_csv(sample_2017_path, \n",
    "                          index_col = ['Unnamed: 0'],\n",
    "                          usecols = [0,1,2,3,4,5], \n",
    "                          engine='python')"
   ]
  },
  {
   "cell_type": "code",
   "execution_count": 19,
   "metadata": {},
   "outputs": [
    {
     "name": "stdout",
     "output_type": "stream",
     "text": [
      "<class 'pandas.core.frame.DataFrame'>\n",
      "Int64Index: 3512 entries, 1 to 3512\n",
      "Data columns (total 5 columns):\n",
      "UF_ZI       3512 non-null int64\n",
      "ANO_CMPT    3512 non-null int64\n",
      "MES_CMPT    3512 non-null int64\n",
      "ESPEC       3512 non-null int64\n",
      "CGC_HOSP    3510 non-null float64\n",
      "dtypes: float64(1), int64(4)\n",
      "memory usage: 164.6 KB\n",
      "None\n"
     ]
    },
    {
     "data": {
      "text/html": [
       "<div>\n",
       "<style scoped>\n",
       "    .dataframe tbody tr th:only-of-type {\n",
       "        vertical-align: middle;\n",
       "    }\n",
       "\n",
       "    .dataframe tbody tr th {\n",
       "        vertical-align: top;\n",
       "    }\n",
       "\n",
       "    .dataframe thead th {\n",
       "        text-align: right;\n",
       "    }\n",
       "</style>\n",
       "<table border=\"1\" class=\"dataframe\">\n",
       "  <thead>\n",
       "    <tr style=\"text-align: right;\">\n",
       "      <th></th>\n",
       "      <th>UF_ZI</th>\n",
       "      <th>ANO_CMPT</th>\n",
       "      <th>MES_CMPT</th>\n",
       "      <th>ESPEC</th>\n",
       "      <th>CGC_HOSP</th>\n",
       "    </tr>\n",
       "  </thead>\n",
       "  <tbody>\n",
       "    <tr>\n",
       "      <th>1</th>\n",
       "      <td>120000</td>\n",
       "      <td>2017</td>\n",
       "      <td>1</td>\n",
       "      <td>3</td>\n",
       "      <td>6.360294e+13</td>\n",
       "    </tr>\n",
       "    <tr>\n",
       "      <th>2</th>\n",
       "      <td>120000</td>\n",
       "      <td>2017</td>\n",
       "      <td>1</td>\n",
       "      <td>3</td>\n",
       "      <td>6.360294e+13</td>\n",
       "    </tr>\n",
       "    <tr>\n",
       "      <th>3</th>\n",
       "      <td>120000</td>\n",
       "      <td>2017</td>\n",
       "      <td>1</td>\n",
       "      <td>3</td>\n",
       "      <td>6.360294e+13</td>\n",
       "    </tr>\n",
       "    <tr>\n",
       "      <th>4</th>\n",
       "      <td>120000</td>\n",
       "      <td>2017</td>\n",
       "      <td>1</td>\n",
       "      <td>1</td>\n",
       "      <td>5.294430e+11</td>\n",
       "    </tr>\n",
       "    <tr>\n",
       "      <th>5</th>\n",
       "      <td>120000</td>\n",
       "      <td>2017</td>\n",
       "      <td>1</td>\n",
       "      <td>1</td>\n",
       "      <td>5.294430e+11</td>\n",
       "    </tr>\n",
       "  </tbody>\n",
       "</table>\n",
       "</div>"
      ],
      "text/plain": [
       "    UF_ZI  ANO_CMPT  MES_CMPT  ESPEC      CGC_HOSP\n",
       "1  120000      2017         1      3  6.360294e+13\n",
       "2  120000      2017         1      3  6.360294e+13\n",
       "3  120000      2017         1      3  6.360294e+13\n",
       "4  120000      2017         1      1  5.294430e+11\n",
       "5  120000      2017         1      1  5.294430e+11"
      ]
     },
     "execution_count": 19,
     "metadata": {},
     "output_type": "execute_result"
    }
   ],
   "source": [
    "print(sample_2017_1.info())\n",
    "sample_2017_1.head()"
   ]
  },
  {
   "cell_type": "markdown",
   "metadata": {},
   "source": [
    "**Results: It was fast, no issues.**"
   ]
  },
  {
   "cell_type": "markdown",
   "metadata": {},
   "source": [
    "Open small sample file from 2017. Bring all available columns."
   ]
  },
  {
   "cell_type": "code",
   "execution_count": 42,
   "metadata": {},
   "outputs": [
    {
     "name": "stdout",
     "output_type": "stream",
     "text": [
      "CPU times: user 324 ms, sys: 9.96 ms, total: 334 ms\n",
      "Wall time: 333 ms\n"
     ]
    }
   ],
   "source": [
    "%%time\n",
    "\n",
    "sample_2017_2 = pd.read_csv(sample_2017_path, \n",
    "                          index_col = ['Unnamed: 0'], \n",
    "                          engine='python')"
   ]
  },
  {
   "cell_type": "code",
   "execution_count": 43,
   "metadata": {},
   "outputs": [
    {
     "name": "stdout",
     "output_type": "stream",
     "text": [
      "<class 'pandas.core.frame.DataFrame'>\n",
      "Int64Index: 3512 entries, 1 to 3512\n",
      "Data columns (total 113 columns):\n",
      "UF_ZI         3512 non-null int64\n",
      "ANO_CMPT      3512 non-null int64\n",
      "MES_CMPT      3512 non-null int64\n",
      "ESPEC         3512 non-null int64\n",
      "CGC_HOSP      3510 non-null float64\n",
      "N_AIH         3512 non-null int64\n",
      "IDENT         3512 non-null int64\n",
      "CEP           3512 non-null int64\n",
      "MUNIC_RES     3512 non-null int64\n",
      "NASC          3512 non-null int64\n",
      "SEXO          3512 non-null int64\n",
      "UTI_MES_IN    3512 non-null int64\n",
      "UTI_MES_AN    3512 non-null int64\n",
      "UTI_MES_AL    3512 non-null int64\n",
      "UTI_MES_TO    3512 non-null int64\n",
      "MARCA_UTI     3512 non-null int64\n",
      "UTI_INT_IN    3512 non-null int64\n",
      "UTI_INT_AN    3512 non-null int64\n",
      "UTI_INT_AL    3512 non-null int64\n",
      "UTI_INT_TO    3512 non-null int64\n",
      "DIAR_ACOM     3512 non-null int64\n",
      "QT_DIARIAS    3512 non-null int64\n",
      "PROC_SOLIC    3512 non-null int64\n",
      "PROC_REA      3512 non-null int64\n",
      "VAL_SH        3512 non-null float64\n",
      "VAL_SP        3512 non-null float64\n",
      "VAL_SADT      3512 non-null int64\n",
      "VAL_RN        3512 non-null int64\n",
      "VAL_ACOMP     3512 non-null int64\n",
      "VAL_ORTP      3512 non-null int64\n",
      "VAL_SANGUE    3512 non-null int64\n",
      "VAL_SADTSR    3512 non-null int64\n",
      "VAL_TRANSP    3512 non-null int64\n",
      "VAL_OBSANG    3512 non-null int64\n",
      "VAL_PED1AC    3512 non-null int64\n",
      "VAL_TOT       3512 non-null float64\n",
      "VAL_UTI       3512 non-null float64\n",
      "US_TOT        3512 non-null float64\n",
      "DT_INTER      3512 non-null int64\n",
      "DT_SAIDA      3512 non-null int64\n",
      "DIAG_PRINC    3512 non-null object\n",
      "DIAG_SECUN    3512 non-null int64\n",
      "COBRANCA      3512 non-null int64\n",
      "NATUREZA      3512 non-null int64\n",
      "NAT_JUR       3512 non-null int64\n",
      "GESTAO        3512 non-null int64\n",
      "RUBRICA       3512 non-null int64\n",
      "IND_VDRL      3512 non-null int64\n",
      "MUNIC_MOV     3512 non-null int64\n",
      "COD_IDADE     3512 non-null int64\n",
      "IDADE         3512 non-null int64\n",
      "DIAS_PERM     3512 non-null int64\n",
      "MORTE         3512 non-null int64\n",
      "NACIONAL      3512 non-null int64\n",
      "NUM_PROC      0 non-null float64\n",
      "CAR_INT       3512 non-null int64\n",
      "TOT_PT_SP     3512 non-null int64\n",
      "CPF_AUT       0 non-null float64\n",
      "HOMONIMO      3512 non-null int64\n",
      "NUM_FILHOS    3512 non-null int64\n",
      "INSTRU        3512 non-null int64\n",
      "CID_NOTIF     9 non-null object\n",
      "CONTRACEP1    3512 non-null int64\n",
      "CONTRACEP2    3512 non-null int64\n",
      "GESTRISCO     3512 non-null int64\n",
      "INSC_PN       3512 non-null int64\n",
      "SEQ_AIH5      3512 non-null int64\n",
      "CBOR          3512 non-null int64\n",
      "CNAER         3512 non-null int64\n",
      "VINCPREV      3512 non-null int64\n",
      "GESTOR_COD    3512 non-null int64\n",
      "GESTOR_TP     3512 non-null int64\n",
      "GESTOR_CPF    3512 non-null int64\n",
      "GESTOR_DT     0 non-null float64\n",
      "CNES          3512 non-null int64\n",
      "CNPJ_MANT     3053 non-null float64\n",
      "INFEHOSP      0 non-null float64\n",
      "CID_ASSO      3512 non-null int64\n",
      "CID_MORTE     3512 non-null int64\n",
      "COMPLEX       3512 non-null int64\n",
      "FINANC        3512 non-null int64\n",
      "FAEC_TP       9 non-null float64\n",
      "REGCT         3512 non-null int64\n",
      "RACA_COR      3512 non-null int64\n",
      "ETNIA         3512 non-null int64\n",
      "SEQUENCIA     3512 non-null int64\n",
      "REMESSA       3512 non-null object\n",
      "AUD_JUST      222 non-null object\n",
      "SIS_JUST      222 non-null object\n",
      "VAL_SH_FED    3512 non-null int64\n",
      "VAL_SP_FED    3512 non-null int64\n",
      "VAL_SH_GES    3512 non-null int64\n",
      "VAL_SP_GES    3512 non-null int64\n",
      "VAL_UCI       3512 non-null int64\n",
      "MARCA_UCI     3512 non-null int64\n",
      "DIAGSEC1      447 non-null object\n",
      "DIAGSEC2      0 non-null float64\n",
      "DIAGSEC3      0 non-null float64\n",
      "DIAGSEC4      0 non-null float64\n",
      "DIAGSEC5      0 non-null float64\n",
      "DIAGSEC6      0 non-null float64\n",
      "DIAGSEC7      0 non-null float64\n",
      "DIAGSEC8      0 non-null float64\n",
      "DIAGSEC9      0 non-null float64\n",
      "TPDISEC1      3512 non-null int64\n",
      "TPDISEC2      3512 non-null int64\n",
      "TPDISEC3      3512 non-null int64\n",
      "TPDISEC4      3512 non-null int64\n",
      "TPDISEC5      3512 non-null int64\n",
      "TPDISEC6      3512 non-null int64\n",
      "TPDISEC7      3512 non-null int64\n",
      "TPDISEC8      3512 non-null int64\n",
      "TPDISEC9      3512 non-null int64\n",
      "dtypes: float64(20), int64(87), object(6)\n",
      "memory usage: 3.1+ MB\n"
     ]
    }
   ],
   "source": [
    "sample_2017_2.info(verbose = True, null_counts = True)"
   ]
  },
  {
   "cell_type": "code",
   "execution_count": 32,
   "metadata": {},
   "outputs": [
    {
     "data": {
      "text/html": [
       "<div>\n",
       "<style scoped>\n",
       "    .dataframe tbody tr th:only-of-type {\n",
       "        vertical-align: middle;\n",
       "    }\n",
       "\n",
       "    .dataframe tbody tr th {\n",
       "        vertical-align: top;\n",
       "    }\n",
       "\n",
       "    .dataframe thead th {\n",
       "        text-align: right;\n",
       "    }\n",
       "</style>\n",
       "<table border=\"1\" class=\"dataframe\">\n",
       "  <thead>\n",
       "    <tr style=\"text-align: right;\">\n",
       "      <th></th>\n",
       "      <th>UF_ZI</th>\n",
       "      <th>ANO_CMPT</th>\n",
       "      <th>MES_CMPT</th>\n",
       "      <th>ESPEC</th>\n",
       "      <th>CGC_HOSP</th>\n",
       "    </tr>\n",
       "  </thead>\n",
       "  <tbody>\n",
       "    <tr>\n",
       "      <th>1</th>\n",
       "      <td>120000</td>\n",
       "      <td>2017</td>\n",
       "      <td>1</td>\n",
       "      <td>3</td>\n",
       "      <td>6.360294e+13</td>\n",
       "    </tr>\n",
       "    <tr>\n",
       "      <th>2</th>\n",
       "      <td>120000</td>\n",
       "      <td>2017</td>\n",
       "      <td>1</td>\n",
       "      <td>3</td>\n",
       "      <td>6.360294e+13</td>\n",
       "    </tr>\n",
       "    <tr>\n",
       "      <th>3</th>\n",
       "      <td>120000</td>\n",
       "      <td>2017</td>\n",
       "      <td>1</td>\n",
       "      <td>3</td>\n",
       "      <td>6.360294e+13</td>\n",
       "    </tr>\n",
       "    <tr>\n",
       "      <th>4</th>\n",
       "      <td>120000</td>\n",
       "      <td>2017</td>\n",
       "      <td>1</td>\n",
       "      <td>1</td>\n",
       "      <td>5.294430e+11</td>\n",
       "    </tr>\n",
       "    <tr>\n",
       "      <th>5</th>\n",
       "      <td>120000</td>\n",
       "      <td>2017</td>\n",
       "      <td>1</td>\n",
       "      <td>1</td>\n",
       "      <td>5.294430e+11</td>\n",
       "    </tr>\n",
       "  </tbody>\n",
       "</table>\n",
       "</div>"
      ],
      "text/plain": [
       "    UF_ZI  ANO_CMPT  MES_CMPT  ESPEC      CGC_HOSP\n",
       "1  120000      2017         1      3  6.360294e+13\n",
       "2  120000      2017         1      3  6.360294e+13\n",
       "3  120000      2017         1      3  6.360294e+13\n",
       "4  120000      2017         1      1  5.294430e+11\n",
       "5  120000      2017         1      1  5.294430e+11"
      ]
     },
     "execution_count": 32,
     "metadata": {},
     "output_type": "execute_result"
    }
   ],
   "source": [
    "sample_2017_1.head()"
   ]
  },
  {
   "cell_type": "code",
   "execution_count": 47,
   "metadata": {},
   "outputs": [],
   "source": [
    "#Zeroes represent nulls in these columns. Replace 0's with np.nan\n",
    "\n",
    "sample_2017_2['TPDISEC1'].replace(to_replace=0, value =np.nan, inplace=True)\n",
    "sample_2017_2['TPDISEC2'].replace(to_replace=0, value =np.nan, inplace=True)\n",
    "sample_2017_2['TPDISEC3'].replace(to_replace=0, value =np.nan, inplace=True)\n",
    "sample_2017_2['TPDISEC4'].replace(to_replace=0, value =np.nan, inplace=True)\n",
    "sample_2017_2['TPDISEC5'].replace(to_replace=0, value =np.nan, inplace=True)\n",
    "sample_2017_2['TPDISEC6'].replace(to_replace=0, value =np.nan, inplace=True)\n",
    "sample_2017_2['TPDISEC7'].replace(to_replace=0, value =np.nan, inplace=True)\n",
    "sample_2017_2['TPDISEC8'].replace(to_replace=0, value =np.nan, inplace=True)\n",
    "sample_2017_2['TPDISEC9'].replace(to_replace=0, value =np.nan, inplace=True)"
   ]
  },
  {
   "cell_type": "code",
   "execution_count": 48,
   "metadata": {},
   "outputs": [
    {
     "name": "stdout",
     "output_type": "stream",
     "text": [
      "<class 'pandas.core.frame.DataFrame'>\n",
      "Int64Index: 3512 entries, 1 to 3512\n",
      "Data columns (total 113 columns):\n",
      "UF_ZI         3512 non-null int64\n",
      "ANO_CMPT      3512 non-null int64\n",
      "MES_CMPT      3512 non-null int64\n",
      "ESPEC         3512 non-null int64\n",
      "CGC_HOSP      3510 non-null float64\n",
      "N_AIH         3512 non-null int64\n",
      "IDENT         3512 non-null int64\n",
      "CEP           3512 non-null int64\n",
      "MUNIC_RES     3512 non-null int64\n",
      "NASC          3512 non-null int64\n",
      "SEXO          3512 non-null int64\n",
      "UTI_MES_IN    3512 non-null int64\n",
      "UTI_MES_AN    3512 non-null int64\n",
      "UTI_MES_AL    3512 non-null int64\n",
      "UTI_MES_TO    3512 non-null int64\n",
      "MARCA_UTI     3512 non-null int64\n",
      "UTI_INT_IN    3512 non-null int64\n",
      "UTI_INT_AN    3512 non-null int64\n",
      "UTI_INT_AL    3512 non-null int64\n",
      "UTI_INT_TO    3512 non-null int64\n",
      "DIAR_ACOM     3512 non-null int64\n",
      "QT_DIARIAS    3512 non-null int64\n",
      "PROC_SOLIC    3512 non-null int64\n",
      "PROC_REA      3512 non-null int64\n",
      "VAL_SH        3512 non-null float64\n",
      "VAL_SP        3512 non-null float64\n",
      "VAL_SADT      3512 non-null int64\n",
      "VAL_RN        3512 non-null int64\n",
      "VAL_ACOMP     3512 non-null int64\n",
      "VAL_ORTP      3512 non-null int64\n",
      "VAL_SANGUE    3512 non-null int64\n",
      "VAL_SADTSR    3512 non-null int64\n",
      "VAL_TRANSP    3512 non-null int64\n",
      "VAL_OBSANG    3512 non-null int64\n",
      "VAL_PED1AC    3512 non-null int64\n",
      "VAL_TOT       3512 non-null float64\n",
      "VAL_UTI       3512 non-null float64\n",
      "US_TOT        3512 non-null float64\n",
      "DT_INTER      3512 non-null int64\n",
      "DT_SAIDA      3512 non-null int64\n",
      "DIAG_PRINC    3512 non-null object\n",
      "DIAG_SECUN    3512 non-null int64\n",
      "COBRANCA      3512 non-null int64\n",
      "NATUREZA      3512 non-null int64\n",
      "NAT_JUR       3512 non-null int64\n",
      "GESTAO        3512 non-null int64\n",
      "RUBRICA       3512 non-null int64\n",
      "IND_VDRL      3512 non-null int64\n",
      "MUNIC_MOV     3512 non-null int64\n",
      "COD_IDADE     3512 non-null int64\n",
      "IDADE         3512 non-null int64\n",
      "DIAS_PERM     3512 non-null int64\n",
      "MORTE         3512 non-null int64\n",
      "NACIONAL      3512 non-null int64\n",
      "NUM_PROC      0 non-null float64\n",
      "CAR_INT       3512 non-null int64\n",
      "TOT_PT_SP     3512 non-null int64\n",
      "CPF_AUT       0 non-null float64\n",
      "HOMONIMO      3512 non-null int64\n",
      "NUM_FILHOS    3512 non-null int64\n",
      "INSTRU        3512 non-null int64\n",
      "CID_NOTIF     9 non-null object\n",
      "CONTRACEP1    3512 non-null int64\n",
      "CONTRACEP2    3512 non-null int64\n",
      "GESTRISCO     3512 non-null int64\n",
      "INSC_PN       3512 non-null int64\n",
      "SEQ_AIH5      3512 non-null int64\n",
      "CBOR          3512 non-null int64\n",
      "CNAER         3512 non-null int64\n",
      "VINCPREV      3512 non-null int64\n",
      "GESTOR_COD    3512 non-null int64\n",
      "GESTOR_TP     3512 non-null int64\n",
      "GESTOR_CPF    3512 non-null int64\n",
      "GESTOR_DT     0 non-null float64\n",
      "CNES          3512 non-null int64\n",
      "CNPJ_MANT     3053 non-null float64\n",
      "INFEHOSP      0 non-null float64\n",
      "CID_ASSO      3512 non-null int64\n",
      "CID_MORTE     3512 non-null int64\n",
      "COMPLEX       3512 non-null int64\n",
      "FINANC        3512 non-null int64\n",
      "FAEC_TP       9 non-null float64\n",
      "REGCT         3512 non-null int64\n",
      "RACA_COR      3512 non-null int64\n",
      "ETNIA         3512 non-null int64\n",
      "SEQUENCIA     3512 non-null int64\n",
      "REMESSA       3512 non-null object\n",
      "AUD_JUST      222 non-null object\n",
      "SIS_JUST      222 non-null object\n",
      "VAL_SH_FED    3512 non-null int64\n",
      "VAL_SP_FED    3512 non-null int64\n",
      "VAL_SH_GES    3512 non-null int64\n",
      "VAL_SP_GES    3512 non-null int64\n",
      "VAL_UCI       3512 non-null int64\n",
      "MARCA_UCI     3512 non-null int64\n",
      "DIAGSEC1      447 non-null object\n",
      "DIAGSEC2      0 non-null float64\n",
      "DIAGSEC3      0 non-null float64\n",
      "DIAGSEC4      0 non-null float64\n",
      "DIAGSEC5      0 non-null float64\n",
      "DIAGSEC6      0 non-null float64\n",
      "DIAGSEC7      0 non-null float64\n",
      "DIAGSEC8      0 non-null float64\n",
      "DIAGSEC9      0 non-null float64\n",
      "TPDISEC1      447 non-null float64\n",
      "TPDISEC2      0 non-null float64\n",
      "TPDISEC3      0 non-null float64\n",
      "TPDISEC4      0 non-null float64\n",
      "TPDISEC5      0 non-null float64\n",
      "TPDISEC6      0 non-null float64\n",
      "TPDISEC7      0 non-null float64\n",
      "TPDISEC8      0 non-null float64\n",
      "TPDISEC9      0 non-null float64\n",
      "dtypes: float64(29), int64(78), object(6)\n",
      "memory usage: 3.1+ MB\n"
     ]
    }
   ],
   "source": [
    "sample_2017_2.info(verbose = True, null_counts = True)"
   ]
  },
  {
   "cell_type": "code",
   "execution_count": 55,
   "metadata": {},
   "outputs": [],
   "source": [
    "# Get list of columns\n",
    "\n",
    "get_columns = list(sample_2017_2.columns.values)"
   ]
  },
  {
   "cell_type": "code",
   "execution_count": 56,
   "metadata": {},
   "outputs": [],
   "source": [
    "# List of columns to remove. These are fields with large amounts of missing values or rarely used.\n",
    "\n",
    "list_to_remove=['NUM_PROC', 'CPF_AUT', 'CID_NOTIF','GESTOR_DT',\n",
    "                'INFEHOSP','FAEC_TP','AUD_JUST','SIS_JUST',\n",
    "                'DIAGSEC1','DIAGSEC2','DIAGSEC3', 'DIAGSEC4',\n",
    "                'DIAGSEC5','DIAGSEC6','DIAGSEC7','DIAGSEC8',\n",
    "                'DIAGSEC9','TPDISEC1','TPDISEC2','TPDISEC1',\n",
    "                'TPDISEC4','TPDISEC5','TPDISEC6','TPDISEC7',\n",
    "                'TPDISEC8','TPDISEC9']"
   ]
  },
  {
   "cell_type": "code",
   "execution_count": 57,
   "metadata": {},
   "outputs": [],
   "source": [
    "# Filter df list to come up with list of columns to upload.\n",
    "\n",
    "column_list = list(set(get_columns).difference(set(list_to_remove)))"
   ]
  },
  {
   "cell_type": "markdown",
   "metadata": {
    "colab_type": "text",
    "id": "kIeJhDcEr4wi"
   },
   "source": [
    "## Upload AIH Data to Pandas DataFrames"
   ]
  },
  {
   "cell_type": "markdown",
   "metadata": {
    "colab_type": "text",
    "id": "4tLxy8gQr_nt"
   },
   "source": [
    "* *Upload 2015 - 2018 AIH data contained in the pre-procesed CSV files*"
   ]
  },
  {
   "cell_type": "markdown",
   "metadata": {
    "colab_type": "text",
    "id": "gpaGMmdsloM6"
   },
   "source": [
    "> **AIH 2015 Data Upload**"
   ]
  },
  {
   "cell_type": "code",
   "execution_count": null,
   "metadata": {
    "colab": {},
    "colab_type": "code",
    "id": "aKKXA8vWOp5W"
   },
   "outputs": [],
   "source": [
    "#Path to 2015 data in local machine\n",
    "\n",
    "aih_2015_path = ('/Users/ivettetapia 1/Symbolic Link Seagate Drive/Springboard/Capstone 2_Deep_Learning/Data/df_RD_2015.csv')\n",
    "\n",
    "#Read to pandas df\n",
    "\n",
    "aih_2015 = pd.read_csv(aih_2015_path, index_col=1, usecols = column_list, engine='python')"
   ]
  },
  {
   "cell_type": "code",
   "execution_count": null,
   "metadata": {
    "colab": {
     "base_uri": "https://localhost:8080/",
     "height": 221
    },
    "colab_type": "code",
    "id": "PzC3y3ORPN1y",
    "outputId": "afc40c58-5685-417b-a461-6bf78e356e4b"
   },
   "outputs": [],
   "source": [
    "# See AIH 2015 data info\n",
    "\n",
    "aih_2015.info(verbose=True)"
   ]
  },
  {
   "cell_type": "code",
   "execution_count": null,
   "metadata": {
    "colab": {},
    "colab_type": "code",
    "id": "K3UN6TUpVPBp"
   },
   "outputs": [],
   "source": [
    "# See AIH data 2015 head\n",
    "\n",
    "aih_2015.head()"
   ]
  },
  {
   "cell_type": "markdown",
   "metadata": {
    "colab_type": "text",
    "id": "XZnVM6Yuly1J"
   },
   "source": [
    "> **AIH 2016 Data Upload**"
   ]
  },
  {
   "cell_type": "code",
   "execution_count": null,
   "metadata": {
    "colab": {
     "base_uri": "https://localhost:8080/",
     "height": 952
    },
    "colab_type": "code",
    "id": "_K_Cu0tvd8V4",
    "outputId": "6c38f965-45a5-4177-db11-ce49878e434a"
   },
   "outputs": [],
   "source": [
    "#Path to 2018 data in local machine\n",
    "\n",
    "aih_2016_path = ('/Users/ivettetapia 1/Symbolic Link Seagate Drive/Springboard/Capstone 2_Deep_Learning/Data/df_RD_2016.csv')\n",
    "\n",
    "#Read to pandas df\n",
    "aih_2016 = pd.read_csv(aih_2016_path, index_col=1, usecols = column_list, engine='python')"
   ]
  },
  {
   "cell_type": "code",
   "execution_count": null,
   "metadata": {
    "colab": {
     "base_uri": "https://localhost:8080/",
     "height": 572
    },
    "colab_type": "code",
    "id": "_ysbypqrlHAD",
    "outputId": "4ce4afab-066f-4121-b978-2c8dbb10780f"
   },
   "outputs": [],
   "source": [
    "# See AIH 2016 data info\n",
    "\n",
    "aih_2016.info(verbose = True)"
   ]
  },
  {
   "cell_type": "code",
   "execution_count": null,
   "metadata": {
    "colab": {},
    "colab_type": "code",
    "id": "HGVIZTeoVAiz"
   },
   "outputs": [],
   "source": [
    "# See AIH 2016 head\n",
    "\n",
    "aih_2016.head()"
   ]
  },
  {
   "cell_type": "markdown",
   "metadata": {
    "colab_type": "text",
    "id": "NoCEi6HeVWuA"
   },
   "source": [
    "> **AIH 2017 Data Upload**"
   ]
  },
  {
   "cell_type": "code",
   "execution_count": 60,
   "metadata": {
    "colab": {},
    "colab_type": "code",
    "id": "Tx-TdnWiXBdM"
   },
   "outputs": [],
   "source": [
    "#Path to 2017 data in local machine\n",
    "\n",
    "aih_2017_1_path = ('/Users/ivettetapia 1/Symbolic Link Seagate Drive/Springboard/Capstone 2_Deep_Learning/Data/df_RD_2017_1.csv')\n",
    "aih_2017_2_path = ('/Users/ivettetapia 1/Symbolic Link Seagate Drive/Springboard/Capstone 2_Deep_Learning/Data/df_RD_2017_2.csv')\n",
    "aih_2017_3_path = ('/Users/ivettetapia 1/Symbolic Link Seagate Drive/Springboard/Capstone 2_Deep_Learning/Data/df_RD_2017_3.csv')\n",
    "aih_2017_4_path = ('/Users/ivettetapia 1/Symbolic Link Seagate Drive/Springboard/Capstone 2_Deep_Learning/Data/df_RD_2017_4.csv')"
   ]
  },
  {
   "cell_type": "code",
   "execution_count": 62,
   "metadata": {},
   "outputs": [
    {
     "name": "stdout",
     "output_type": "stream",
     "text": [
      "CPU times: user 6min 29s, sys: 10min 37s, total: 17min 7s\n",
      "Wall time: 18min 47s\n"
     ]
    }
   ],
   "source": [
    "%%time\n",
    "\n",
    "#Read to pandas df.\n",
    "\n",
    "# This is 1.5GB file\n",
    "\n",
    "aih_2017_1 = pd.read_csv(aih_2017_1_path, index_col = 1, usecols = column_list, engine = 'python')\n",
    "#aih_2017_2 = pd.read_csv(aih_2017_2_path, index_col=1, use_cols = column_list, engine='python')\n",
    "#aih_2017_3 = pd.read_csv(aih_2017_3_path, index_col=1, use_cols = column_list, engine='python')\n",
    "#aih_2017_4 = pd.read_csv(aih_2017_4_path, index_col=1, use_cols = column_list, engine='python')"
   ]
  },
  {
   "cell_type": "code",
   "execution_count": null,
   "metadata": {
    "colab": {},
    "colab_type": "code",
    "id": "QVcs5Wm_XBmw"
   },
   "outputs": [],
   "source": [
    "# Concatenate AIH 2017 df\n",
    "\n",
    "aih_2017 = pd.concat([aih_2017_1,aih_2017_2,aih_2017_3,aih_2017_4])"
   ]
  },
  {
   "cell_type": "code",
   "execution_count": null,
   "metadata": {
    "colab": {},
    "colab_type": "code",
    "id": "ze05lyscXBpv"
   },
   "outputs": [],
   "source": [
    "# See 2017 data info\n",
    "\n",
    "aih_2017.info(verbose=True)"
   ]
  },
  {
   "cell_type": "code",
   "execution_count": null,
   "metadata": {
    "colab": {},
    "colab_type": "code",
    "id": "-ZL9NhfxXBsq"
   },
   "outputs": [],
   "source": [
    "# See AIH 2017 head\n",
    "\n",
    "aih_2017.head()"
   ]
  },
  {
   "cell_type": "markdown",
   "metadata": {
    "colab_type": "text",
    "id": "dTWa6ZxiVZVS"
   },
   "source": [
    "> **AIH 2018 Data Upload**"
   ]
  },
  {
   "cell_type": "code",
   "execution_count": null,
   "metadata": {
    "colab": {},
    "colab_type": "code",
    "id": "FuHUFq9PYcpn"
   },
   "outputs": [],
   "source": [
    "#Path to 2018 data in local machine\n",
    "\n",
    "aih_2018_path = ('/Users/ivettetapia 1/Symbolic Link Seagate Drive/Springboard/Capstone 2_Deep_Learning/Data/df_RD_2018.csv')\n",
    "\n",
    "#Read to pandas df\n",
    "aih_2018 = pd.read_csv(aih_2018_path, index_col=1, usecols = column_list, engine='python')"
   ]
  },
  {
   "cell_type": "code",
   "execution_count": null,
   "metadata": {
    "colab": {},
    "colab_type": "code",
    "id": "EPjzhYEXYhZ6"
   },
   "outputs": [],
   "source": [
    "# See AIH 2018 data info\n",
    "\n",
    "aih_2018.info(verbose=True)"
   ]
  },
  {
   "cell_type": "code",
   "execution_count": null,
   "metadata": {
    "colab": {},
    "colab_type": "code",
    "id": "Rg1n_z0tYhjh"
   },
   "outputs": [],
   "source": [
    "# See AIH data 2018 head\n",
    "\n",
    "aih_2018.head()"
   ]
  },
  {
   "cell_type": "markdown",
   "metadata": {
    "colab_type": "text",
    "id": "xmG_HZWdqrNl"
   },
   "source": [
    "## Create Helper Functions for Data Exploration"
   ]
  },
  {
   "cell_type": "code",
   "execution_count": null,
   "metadata": {
    "colab": {},
    "colab_type": "code",
    "id": "lRq42oV7denO"
   },
   "outputs": [],
   "source": [
    "def count_unique(list_df = None, df_names = None, column = 'CEP'):\n",
    "  \n",
    "  ''' Count unique elements from the same colum \n",
    "      (the column must be shared across dfs) across several pandas dataframes. \n",
    "      The function takes a list of dfs, the column of interest and the df names \n",
    "      and outputs the unique values'''\n",
    "  \n",
    "  result_list = [] #initialize result empty list\n",
    "  \n",
    "  names = df_names\n",
    "  \n",
    "  for df in list_df:\n",
    "    result = df[column].nunique()\n",
    "    result_list.append(result)\n",
    "  \n",
    "  for name, value in zip(names, result_list):\n",
    "    print('%s: %.1f' % (name, value))\n",
    "  \n",
    "  print('Total Unique:', sum(result_list))"
   ]
  },
  {
   "cell_type": "code",
   "execution_count": null,
   "metadata": {
    "colab": {},
    "colab_type": "code",
    "id": "V_079zgetIss"
   },
   "outputs": [],
   "source": [
    "def num_rows(list_df = None, df_names = None):\n",
    "  \n",
    "  ''' Calculates number of rows for each dataframe \n",
    "      across several pandas dataframes. \n",
    "      The function takes a list of dataframes, and the \n",
    "      dataframes names and outputs the unique values \n",
    "      for each dataframe and total.'''\n",
    "  \n",
    "  result_list = [] #initialize result empty list\n",
    "  \n",
    "  names = df_names\n",
    "  \n",
    "  for df in list_df:\n",
    "    result = len(df)\n",
    "    result_list.append(result)\n",
    "  \n",
    "  for name, value in zip(names, result_list):\n",
    "    print('%s: %.1f' % (name, value))\n",
    "    \n",
    "  print('Total Obs:', sum(result_list))"
   ]
  },
  {
   "cell_type": "code",
   "execution_count": null,
   "metadata": {
    "colab": {
     "base_uri": "https://localhost:8080/",
     "height": 68
    },
    "colab_type": "code",
    "id": "MS1ptnm_qCTw",
    "outputId": "1919d42d-d009-4cd8-d5cb-ca95920555a5"
   },
   "outputs": [],
   "source": [
    "count_unique(list_df=list_df, df_names=df_names, column='Type of Field')"
   ]
  },
  {
   "cell_type": "code",
   "execution_count": null,
   "metadata": {
    "colab": {},
    "colab_type": "code",
    "id": "4kyPZEw1p5fs"
   },
   "outputs": [],
   "source": [
    "list_df = [var_df,var_df,var_df]\n",
    "df_names = ['df_1','df_2','df_3']"
   ]
  },
  {
   "cell_type": "code",
   "execution_count": null,
   "metadata": {
    "colab": {},
    "colab_type": "code",
    "id": "k3e-U9mxnBon"
   },
   "outputs": [],
   "source": [
    "df_names = ['1','2','3']"
   ]
  },
  {
   "cell_type": "code",
   "execution_count": null,
   "metadata": {
    "colab": {
     "base_uri": "https://localhost:8080/",
     "height": 34
    },
    "colab_type": "code",
    "id": "CKWO6GzWgf4a",
    "outputId": "d93436a2-3fad-4991-9d0e-ca52d6e559be"
   },
   "outputs": [],
   "source": [
    "unique_patients(list_df = df, column = 'Type of Field')"
   ]
  },
  {
   "cell_type": "markdown",
   "metadata": {
    "colab_type": "text",
    "id": "leqg39aYv9Go"
   },
   "source": [
    "## Preliminary Exploration"
   ]
  },
  {
   "cell_type": "markdown",
   "metadata": {
    "colab_type": "text",
    "id": "xrNjGg5grcq7"
   },
   "source": [
    "> ** Observations in each dataframe**"
   ]
  },
  {
   "cell_type": "code",
   "execution_count": null,
   "metadata": {
    "colab": {},
    "colab_type": "code",
    "id": "z_4cc4OErjAU"
   },
   "outputs": [],
   "source": []
  },
  {
   "cell_type": "markdown",
   "metadata": {
    "colab_type": "text",
    "id": "C9CIPpb7rnaf"
   },
   "source": [
    "> ** Unique number of patients?**"
   ]
  },
  {
   "cell_type": "code",
   "execution_count": null,
   "metadata": {
    "colab": {},
    "colab_type": "code",
    "id": "D8jrrjS-v_WW"
   },
   "outputs": [],
   "source": []
  },
  {
   "cell_type": "markdown",
   "metadata": {
    "colab_type": "text",
    "id": "Ig9J45dssN76"
   },
   "source": [
    "> ** Unique number of procedures**"
   ]
  },
  {
   "cell_type": "code",
   "execution_count": null,
   "metadata": {
    "colab": {},
    "colab_type": "code",
    "id": "oHIeu4CMsX3q"
   },
   "outputs": [],
   "source": []
  },
  {
   "cell_type": "markdown",
   "metadata": {
    "colab_type": "text",
    "id": "dU6NjWyGr2dG"
   },
   "source": [
    "> ** Unique number of hospitals**"
   ]
  },
  {
   "cell_type": "code",
   "execution_count": null,
   "metadata": {
    "colab": {},
    "colab_type": "code",
    "id": "cIa9vhpJZViq"
   },
   "outputs": [],
   "source": []
  },
  {
   "cell_type": "markdown",
   "metadata": {
    "colab_type": "text",
    "id": "SBbN5YU8Zkjn"
   },
   "source": [
    "## Sample of one hospitalization record (AIH 2018)"
   ]
  },
  {
   "cell_type": "code",
   "execution_count": null,
   "metadata": {
    "colab": {},
    "colab_type": "code",
    "id": "fXLC0jHGZpBt"
   },
   "outputs": [],
   "source": [
    "pat_hosp_record = aih_2018[['CEP','NASC','IDADE','MUNIC_RES','SEXO',\n",
    "                            'QT_DIARIAS','PROC_REA','VAL_SH','VAL_SP',\n",
    "                            'VAL_TOT','US_TOT','DIAG_PRINC','COBRANCA',\n",
    "                            'DIAS_PERM','MORTE','NACIONAL','CAR_INT',\n",
    "                            'INSTRU','RACA_COR','ETNIA']]\n",
    "\n",
    "\n",
    "one_pat_record = pat_record_cols[pat_record_cols['CEP']== #some no.]"
   ]
  }
 ],
 "metadata": {
  "accelerator": "GPU",
  "colab": {
   "name": "Capstone 2_Data Cleaning & Exploratory Analysis.ipynb",
   "provenance": [],
   "toc_visible": true,
   "version": "0.3.2"
  },
  "kernelspec": {
   "display_name": "Python 3",
   "language": "python",
   "name": "python3"
  },
  "language_info": {
   "codemirror_mode": {
    "name": "ipython",
    "version": 3
   },
   "file_extension": ".py",
   "mimetype": "text/x-python",
   "name": "python",
   "nbconvert_exporter": "python",
   "pygments_lexer": "ipython3",
   "version": "3.6.5"
  }
 },
 "nbformat": 4,
 "nbformat_minor": 1
}
