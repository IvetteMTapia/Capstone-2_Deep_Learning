{
 "cells": [
  {
   "cell_type": "markdown",
   "metadata": {},
   "source": [
    "## Import Needed Libraries"
   ]
  },
  {
   "cell_type": "code",
   "execution_count": 12,
   "metadata": {},
   "outputs": [],
   "source": [
    "import pandas as pd\n",
    "from sklearn.model_selection import train_test_split\n",
    "from sklearn.preprocessing import MinMaxScaler"
   ]
  },
  {
   "cell_type": "markdown",
   "metadata": {},
   "source": [
    "## Upload Cleaned Numerical Data"
   ]
  },
  {
   "cell_type": "markdown",
   "metadata": {},
   "source": [
    "**Demographic Columns**"
   ]
  },
  {
   "cell_type": "code",
   "execution_count": 2,
   "metadata": {},
   "outputs": [
    {
     "name": "stdout",
     "output_type": "stream",
     "text": [
      "CPU times: user 15.5 s, sys: 1.76 s, total: 17.3 s\n",
      "Wall time: 17.2 s\n"
     ]
    }
   ],
   "source": [
    "%%time\n",
    "\n",
    "demo_path = ('/Users/ivettetapia 1/Symbolic Link Seagate Drive/Springboard/Capstone 2_Deep_Learning/Data/AIH_sample_demo.csv')\n",
    "\n",
    "demo_cols = ['MUNIC_RES_CAT','SEXO_CAT','RACA_COR_CAT','ETNIA_CAT','IDADE',\"MORTE_CAT\"]\n",
    "\n",
    "\n",
    "demo_data = pd.read_csv(demo_path, \n",
    "                        encoding = 'UTF-8', \n",
    "                        na_values= ['NaN',' ',''],\n",
    "                        usecols = demo_cols)"
   ]
  },
  {
   "cell_type": "code",
   "execution_count": 3,
   "metadata": {},
   "outputs": [
    {
     "name": "stdout",
     "output_type": "stream",
     "text": [
      "<class 'pandas.core.frame.DataFrame'>\n",
      "RangeIndex: 16614830 entries, 0 to 16614829\n",
      "Data columns (total 6 columns):\n",
      "MUNIC_RES_CAT    16462037 non-null float64\n",
      "SEXO_CAT         16614830 non-null int64\n",
      "RACA_COR_CAT     12299845 non-null float64\n",
      "ETNIA_CAT        35012 non-null float64\n",
      "IDADE            16614830 non-null int64\n",
      "MORTE_CAT        16614830 non-null int64\n",
      "dtypes: float64(3), int64(3)\n",
      "memory usage: 760.6 MB\n"
     ]
    }
   ],
   "source": [
    "demo_data.info(verbose=True, null_counts=True)"
   ]
  },
  {
   "cell_type": "markdown",
   "metadata": {},
   "source": [
    "**Diagnosis Features**"
   ]
  },
  {
   "cell_type": "code",
   "execution_count": 4,
   "metadata": {},
   "outputs": [
    {
     "name": "stdout",
     "output_type": "stream",
     "text": [
      "CPU times: user 29.1 s, sys: 3.62 s, total: 32.7 s\n",
      "Wall time: 34 s\n"
     ]
    }
   ],
   "source": [
    "%%time\n",
    "\n",
    "diag_path = ('/Users/ivettetapia 1/Symbolic Link Seagate Drive/Springboard/Capstone 2_Deep_Learning/Data/AIH_sample_diag.csv')\n",
    "\n",
    "diag_cols = [\"DIAG_PRINC_CAT\",\"CAT_CAT\",\"CAP_CAT\",\"GRP_CAT\"]\n",
    "\n",
    "\n",
    "diag_data = pd.read_csv(diag_path, \n",
    "                        encoding = 'UTF-8', \n",
    "                        na_values= ['NaN',' ',''],\n",
    "                        usecols = diag_cols)"
   ]
  },
  {
   "cell_type": "code",
   "execution_count": 5,
   "metadata": {},
   "outputs": [
    {
     "name": "stdout",
     "output_type": "stream",
     "text": [
      "<class 'pandas.core.frame.DataFrame'>\n",
      "RangeIndex: 16614830 entries, 0 to 16614829\n",
      "Data columns (total 4 columns):\n",
      "DIAG_PRINC_CAT    16614830 non-null int64\n",
      "CAT_CAT           16614830 non-null int64\n",
      "CAP_CAT           16614830 non-null int64\n",
      "GRP_CAT           16614830 non-null int64\n",
      "dtypes: int64(4)\n",
      "memory usage: 507.0 MB\n"
     ]
    }
   ],
   "source": [
    "diag_data.info(verbose=True, null_counts=True)"
   ]
  },
  {
   "cell_type": "markdown",
   "metadata": {},
   "source": [
    "**Hospitalization Columns**"
   ]
  },
  {
   "cell_type": "code",
   "execution_count": 6,
   "metadata": {},
   "outputs": [
    {
     "name": "stdout",
     "output_type": "stream",
     "text": [
      "CPU times: user 1min 4s, sys: 12.6 s, total: 1min 16s\n",
      "Wall time: 1min 17s\n"
     ]
    }
   ],
   "source": [
    "%%time\n",
    "\n",
    "hospi_path = ('/Users/ivettetapia 1/Symbolic Link Seagate Drive/Springboard/Capstone 2_Deep_Learning/Data/AIH_sample_hospi.csv')\n",
    "\n",
    "hospi_cols = ['ESPEC_CAT', 'CGC_HOSP_CAT', 'UTI_MES_TO',\n",
    "              'MARCA_UTI_CAT','UTI_INT_TO','DIAR_ACOM','DIAS_PERM',\n",
    "              'PROC_REA_CAT','proc_group_CAT','COBRANCA_CAT',\n",
    "              'cobranca_group_CAT','IND_VDRL_CAT',\n",
    "              'CAR_INT_CAT','CONTRACEP1_CAT','CONTRACEP2_CAT','COMPLEX_CAT']\n",
    "\n",
    "\n",
    "hospi_data = pd.read_csv(hospi_path, \n",
    "                         encoding = 'UTF-8', \n",
    "                         na_values= ['NaN',' ',''],\n",
    "                         usecols = hospi_cols)"
   ]
  },
  {
   "cell_type": "code",
   "execution_count": 7,
   "metadata": {},
   "outputs": [
    {
     "name": "stdout",
     "output_type": "stream",
     "text": [
      "<class 'pandas.core.frame.DataFrame'>\n",
      "RangeIndex: 16614830 entries, 0 to 16614829\n",
      "Data columns (total 16 columns):\n",
      "UTI_MES_TO            16614830 non-null int64\n",
      "UTI_INT_TO            16614830 non-null int64\n",
      "DIAR_ACOM             16614830 non-null int64\n",
      "DIAS_PERM             16614830 non-null int64\n",
      "ESPEC_CAT             16614830 non-null int64\n",
      "CGC_HOSP_CAT          12629682 non-null float64\n",
      "PROC_REA_CAT          16614830 non-null int64\n",
      "COBRANCA_CAT          16614830 non-null int64\n",
      "IND_VDRL_CAT          16614830 non-null int64\n",
      "CAR_INT_CAT           16614830 non-null int64\n",
      "CONTRACEP1_CAT        16614830 non-null int64\n",
      "CONTRACEP2_CAT        16614830 non-null int64\n",
      "COMPLEX_CAT           16614830 non-null int64\n",
      "cobranca_group_CAT    16582615 non-null float64\n",
      "proc_group_CAT        16614830 non-null int64\n",
      "MARCA_UTI_CAT         16614830 non-null int64\n",
      "dtypes: float64(2), int64(14)\n",
      "memory usage: 2.0 GB\n"
     ]
    }
   ],
   "source": [
    "hospi_data.info(verbose=True, null_counts=True)"
   ]
  },
  {
   "cell_type": "markdown",
   "metadata": {},
   "source": [
    "## Join Data"
   ]
  },
  {
   "cell_type": "code",
   "execution_count": 8,
   "metadata": {},
   "outputs": [],
   "source": [
    "#Concatenate demographics \n",
    "\n",
    "join_1 = demo_data.join(diag_data, lsuffix='l_', rsuffix='r',  sort = False)"
   ]
  },
  {
   "cell_type": "code",
   "execution_count": 9,
   "metadata": {},
   "outputs": [],
   "source": [
    "join_2 = join_1.join(hospi_data, lsuffix='l_', rsuffix='r',  sort = False)"
   ]
  },
  {
   "cell_type": "code",
   "execution_count": 10,
   "metadata": {},
   "outputs": [],
   "source": [
    "final_join = join_2"
   ]
  },
  {
   "cell_type": "code",
   "execution_count": 11,
   "metadata": {},
   "outputs": [
    {
     "name": "stdout",
     "output_type": "stream",
     "text": [
      "<class 'pandas.core.frame.DataFrame'>\n",
      "RangeIndex: 16614830 entries, 0 to 16614829\n",
      "Data columns (total 26 columns):\n",
      "MUNIC_RES_CAT         16462037 non-null float64\n",
      "SEXO_CAT              16614830 non-null int64\n",
      "RACA_COR_CAT          12299845 non-null float64\n",
      "ETNIA_CAT             35012 non-null float64\n",
      "IDADE                 16614830 non-null int64\n",
      "MORTE_CAT             16614830 non-null int64\n",
      "DIAG_PRINC_CAT        16614830 non-null int64\n",
      "CAT_CAT               16614830 non-null int64\n",
      "CAP_CAT               16614830 non-null int64\n",
      "GRP_CAT               16614830 non-null int64\n",
      "UTI_MES_TO            16614830 non-null int64\n",
      "UTI_INT_TO            16614830 non-null int64\n",
      "DIAR_ACOM             16614830 non-null int64\n",
      "DIAS_PERM             16614830 non-null int64\n",
      "ESPEC_CAT             16614830 non-null int64\n",
      "CGC_HOSP_CAT          12629682 non-null float64\n",
      "PROC_REA_CAT          16614830 non-null int64\n",
      "COBRANCA_CAT          16614830 non-null int64\n",
      "IND_VDRL_CAT          16614830 non-null int64\n",
      "CAR_INT_CAT           16614830 non-null int64\n",
      "CONTRACEP1_CAT        16614830 non-null int64\n",
      "CONTRACEP2_CAT        16614830 non-null int64\n",
      "COMPLEX_CAT           16614830 non-null int64\n",
      "cobranca_group_CAT    16582615 non-null float64\n",
      "proc_group_CAT        16614830 non-null int64\n",
      "MARCA_UTI_CAT         16614830 non-null int64\n",
      "dtypes: float64(5), int64(21)\n",
      "memory usage: 3.2 GB\n"
     ]
    }
   ],
   "source": [
    "final_join.info(verbose=True, null_counts=True)"
   ]
  },
  {
   "cell_type": "markdown",
   "metadata": {},
   "source": [
    "## Re-scale continuous values (0,1)"
   ]
  },
  {
   "cell_type": "code",
   "execution_count": 13,
   "metadata": {},
   "outputs": [],
   "source": [
    "scaler = MinMaxScaler()\n",
    "\n",
    "final_join[['IDADE','UTI_MES_TO','UTI_INT_TO','DIAR_ACOM','DIAS_PERM']] = scaler.fit_transform(final_join[['IDADE','UTI_MES_TO','UTI_INT_TO','DIAR_ACOM','DIAS_PERM']])"
   ]
  },
  {
   "cell_type": "code",
   "execution_count": 15,
   "metadata": {},
   "outputs": [
    {
     "data": {
      "text/html": [
       "<div>\n",
       "<style scoped>\n",
       "    .dataframe tbody tr th:only-of-type {\n",
       "        vertical-align: middle;\n",
       "    }\n",
       "\n",
       "    .dataframe tbody tr th {\n",
       "        vertical-align: top;\n",
       "    }\n",
       "\n",
       "    .dataframe thead th {\n",
       "        text-align: right;\n",
       "    }\n",
       "</style>\n",
       "<table border=\"1\" class=\"dataframe\">\n",
       "  <thead>\n",
       "    <tr style=\"text-align: right;\">\n",
       "      <th></th>\n",
       "      <th>IDADE</th>\n",
       "      <th>UTI_MES_TO</th>\n",
       "      <th>UTI_INT_TO</th>\n",
       "      <th>DIAR_ACOM</th>\n",
       "      <th>DIAS_PERM</th>\n",
       "    </tr>\n",
       "  </thead>\n",
       "  <tbody>\n",
       "    <tr>\n",
       "      <th>count</th>\n",
       "      <td>1.661483e+07</td>\n",
       "      <td>1.661483e+07</td>\n",
       "      <td>1.661483e+07</td>\n",
       "      <td>1.661483e+07</td>\n",
       "      <td>1.661483e+07</td>\n",
       "    </tr>\n",
       "    <tr>\n",
       "      <th>mean</th>\n",
       "      <td>4.016778e-01</td>\n",
       "      <td>1.527763e-03</td>\n",
       "      <td>2.167705e-04</td>\n",
       "      <td>5.723171e-03</td>\n",
       "      <td>1.481481e-02</td>\n",
       "    </tr>\n",
       "    <tr>\n",
       "      <th>std</th>\n",
       "      <td>2.439140e-01</td>\n",
       "      <td>9.580400e-03</td>\n",
       "      <td>4.061263e-03</td>\n",
       "      <td>1.289579e-02</td>\n",
       "      <td>2.204041e-02</td>\n",
       "    </tr>\n",
       "    <tr>\n",
       "      <th>min</th>\n",
       "      <td>0.000000e+00</td>\n",
       "      <td>0.000000e+00</td>\n",
       "      <td>0.000000e+00</td>\n",
       "      <td>0.000000e+00</td>\n",
       "      <td>0.000000e+00</td>\n",
       "    </tr>\n",
       "    <tr>\n",
       "      <th>25%</th>\n",
       "      <td>2.121212e-01</td>\n",
       "      <td>0.000000e+00</td>\n",
       "      <td>0.000000e+00</td>\n",
       "      <td>0.000000e+00</td>\n",
       "      <td>5.494505e-03</td>\n",
       "    </tr>\n",
       "    <tr>\n",
       "      <th>50%</th>\n",
       "      <td>3.636364e-01</td>\n",
       "      <td>0.000000e+00</td>\n",
       "      <td>0.000000e+00</td>\n",
       "      <td>0.000000e+00</td>\n",
       "      <td>8.241758e-03</td>\n",
       "    </tr>\n",
       "    <tr>\n",
       "      <th>75%</th>\n",
       "      <td>5.959596e-01</td>\n",
       "      <td>0.000000e+00</td>\n",
       "      <td>0.000000e+00</td>\n",
       "      <td>5.882353e-03</td>\n",
       "      <td>1.648352e-02</td>\n",
       "    </tr>\n",
       "    <tr>\n",
       "      <th>max</th>\n",
       "      <td>1.000000e+00</td>\n",
       "      <td>1.000000e+00</td>\n",
       "      <td>1.000000e+00</td>\n",
       "      <td>1.000000e+00</td>\n",
       "      <td>1.000000e+00</td>\n",
       "    </tr>\n",
       "  </tbody>\n",
       "</table>\n",
       "</div>"
      ],
      "text/plain": [
       "              IDADE    UTI_MES_TO    UTI_INT_TO     DIAR_ACOM     DIAS_PERM\n",
       "count  1.661483e+07  1.661483e+07  1.661483e+07  1.661483e+07  1.661483e+07\n",
       "mean   4.016778e-01  1.527763e-03  2.167705e-04  5.723171e-03  1.481481e-02\n",
       "std    2.439140e-01  9.580400e-03  4.061263e-03  1.289579e-02  2.204041e-02\n",
       "min    0.000000e+00  0.000000e+00  0.000000e+00  0.000000e+00  0.000000e+00\n",
       "25%    2.121212e-01  0.000000e+00  0.000000e+00  0.000000e+00  5.494505e-03\n",
       "50%    3.636364e-01  0.000000e+00  0.000000e+00  0.000000e+00  8.241758e-03\n",
       "75%    5.959596e-01  0.000000e+00  0.000000e+00  5.882353e-03  1.648352e-02\n",
       "max    1.000000e+00  1.000000e+00  1.000000e+00  1.000000e+00  1.000000e+00"
      ]
     },
     "execution_count": 15,
     "metadata": {},
     "output_type": "execute_result"
    }
   ],
   "source": [
    "final_join[['IDADE','UTI_MES_TO','UTI_INT_TO','DIAR_ACOM','DIAS_PERM']].describe()"
   ]
  },
  {
   "cell_type": "markdown",
   "metadata": {},
   "source": [
    "## Train - Test Split"
   ]
  },
  {
   "cell_type": "code",
   "execution_count": 17,
   "metadata": {},
   "outputs": [
    {
     "name": "stdout",
     "output_type": "stream",
     "text": [
      "CPU times: user 9.86 s, sys: 4.18 s, total: 14 s\n",
      "Wall time: 15.8 s\n"
     ]
    }
   ],
   "source": [
    "%%time\n",
    "\n",
    "AIH_train, AIH_test = train_test_split(final_join, test_size=0.3, train_size = 0.7, \n",
    "                                      random_state = 42, shuffle = True)"
   ]
  },
  {
   "cell_type": "code",
   "execution_count": 20,
   "metadata": {},
   "outputs": [
    {
     "name": "stdout",
     "output_type": "stream",
     "text": [
      "Rows in Train:  11630381\n",
      "Rows in Test:  4984449\n"
     ]
    }
   ],
   "source": [
    "print('Rows in Train: ',len(AIH_train))\n",
    "print('Rows in Test: ',len(AIH_test))"
   ]
  },
  {
   "cell_type": "markdown",
   "metadata": {},
   "source": [
    "## Output as CSV"
   ]
  },
  {
   "cell_type": "code",
   "execution_count": 21,
   "metadata": {},
   "outputs": [],
   "source": [
    "# Train data\n",
    "AIH_train.to_csv('AIH_train.csv', index = False, \n",
    "                 na_rep= 'NaN', encoding='utf-8', chunksize = 50000)"
   ]
  },
  {
   "cell_type": "code",
   "execution_count": 22,
   "metadata": {},
   "outputs": [],
   "source": [
    "# Test data\n",
    "\n",
    "AIH_test.to_csv('AIH_test.csv', index = False, \n",
    "                 na_rep= 'NaN', encoding='utf-8', chunksize = 50000)"
   ]
  }
 ],
 "metadata": {
  "kernelspec": {
   "display_name": "Python 3",
   "language": "python",
   "name": "python3"
  },
  "language_info": {
   "codemirror_mode": {
    "name": "ipython",
    "version": 3
   },
   "file_extension": ".py",
   "mimetype": "text/x-python",
   "name": "python",
   "nbconvert_exporter": "python",
   "pygments_lexer": "ipython3",
   "version": "3.6.5"
  }
 },
 "nbformat": 4,
 "nbformat_minor": 2
}
