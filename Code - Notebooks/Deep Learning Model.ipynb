{
 "cells": [
  {
   "cell_type": "markdown",
   "metadata": {
    "colab_type": "text",
    "id": "22mhO5tdrfsA"
   },
   "source": [
    "## Import Libraries"
   ]
  },
  {
   "cell_type": "code",
   "execution_count": 3,
   "metadata": {
    "colab": {
     "base_uri": "https://localhost:8080/",
     "height": 32
    },
    "colab_type": "code",
    "id": "vbeE0-_lltw6",
    "outputId": "1a99d03e-805e-4254-c022-94f75e84bb5d"
   },
   "outputs": [],
   "source": [
    "#Data Procesing Libraries and Plotting\n",
    "\n",
    "import pandas as pd\n",
    "import numpy as np\n",
    "import matplotlib.pyplot as plt \n",
    "\n",
    "#Keras\n",
    "\n",
    "import keras\n",
    "from keras import backend as K\n",
    "from keras.layers import Dense, Activation, Embedding, Input, LSTM, Flatten\n",
    "from keras.models import Sequential, Model\n",
    "from keras.callbacks import EarlyStopping,Callback\n",
    "from keras.models import model_from_json\n",
    "\n",
    "#Evaluation\n",
    "\n",
    "from sklearn.model_selection import KFold\n",
    "from sklearn.metrics import confusion_matrix, f1_score, precision_score, recall_score"
   ]
  },
  {
   "cell_type": "markdown",
   "metadata": {
    "colab_type": "text",
    "id": "kIeJhDcEr4wi"
   },
   "source": [
    "## Data - Numpy Arrays"
   ]
  },
  {
   "cell_type": "markdown",
   "metadata": {
    "colab_type": "text",
    "id": "4tLxy8gQr_nt"
   },
   "source": [
    "Upload 2015 - 2018 AIH cleaned features: demographics, diagnosis and hospitalization data. For more details on how the arrays where created go to the project repo here:"
   ]
  },
  {
   "cell_type": "markdown",
   "metadata": {
    "colab_type": "text",
    "id": "jmkXI42V8Obr"
   },
   "source": [
    "**Training Arrays**"
   ]
  },
  {
   "cell_type": "code",
   "execution_count": 2,
   "metadata": {
    "colab": {},
    "colab_type": "code",
    "id": "joRFuR758N7f"
   },
   "outputs": [],
   "source": [
    "num_train = np.load('num_train.npy')"
   ]
  },
  {
   "cell_type": "code",
   "execution_count": 3,
   "metadata": {
    "colab": {},
    "colab_type": "code",
    "id": "WCpQdu448m5m"
   },
   "outputs": [],
   "source": [
    "cat_train = np.load('cat_train.npy')"
   ]
  },
  {
   "cell_type": "code",
   "execution_count": 4,
   "metadata": {
    "colab": {},
    "colab_type": "code",
    "id": "xzjO2Lkk8rdm"
   },
   "outputs": [],
   "source": [
    "out_train = np.load('out_train.npy')"
   ]
  },
  {
   "cell_type": "markdown",
   "metadata": {
    "colab_type": "text",
    "id": "qndztrtD81l3"
   },
   "source": [
    "**Validation Arrays**"
   ]
  },
  {
   "cell_type": "code",
   "execution_count": 4,
   "metadata": {
    "colab": {},
    "colab_type": "code",
    "id": "zfA5qyrd8zMu"
   },
   "outputs": [],
   "source": [
    "#Load validation numpy arrays\n",
    "\n",
    "num_valid = np.load('num_valid.npy')\n",
    "\n",
    "cat_valid = np.load('cat_valid.npy')\n",
    "\n",
    "out_valid = np.load('out_valid.npy')"
   ]
  },
  {
   "cell_type": "markdown",
   "metadata": {
    "colab_type": "text",
    "id": "psTGc-v384Uu"
   },
   "source": [
    "**Testing Arrays**"
   ]
  },
  {
   "cell_type": "code",
   "execution_count": 6,
   "metadata": {
    "colab": {},
    "colab_type": "code",
    "id": "HeaCxfJN86nv"
   },
   "outputs": [],
   "source": [
    "#Load test numpy arrays\n",
    "\n",
    "num_test = np.load('num_test.npy')\n",
    "\n",
    "cat_test = np.load('cat_test.npy')\n",
    "\n",
    "out_test = np.load('out_test.npy')"
   ]
  },
  {
   "cell_type": "markdown",
   "metadata": {
    "colab_type": "text",
    "id": "jzXSHQlU3Fi-"
   },
   "source": [
    "** Shape for Each Sample**"
   ]
  },
  {
   "cell_type": "code",
   "execution_count": 7,
   "metadata": {
    "colab": {
     "base_uri": "https://localhost:8080/",
     "height": 65
    },
    "colab_type": "code",
    "id": "kFSf6jau28S-",
    "outputId": "b72e09e8-8a5a-4017-b093-9fe49491bde5"
   },
   "outputs": [
    {
     "name": "stdout",
     "output_type": "stream",
     "text": [
      "num_input shape | Train: (14621050, 9) Valid: (1674775, 9) Test: (319005, 9)\n",
      "cat_input shape | Train: (14621050, 6) Valid: (1674775, 6) Test: (319005, 6)\n",
      "out_input shape | Train: (14621050, 38) Valid: (1674775, 38) Test: (319005, 38)\n"
     ]
    }
   ],
   "source": [
    "print('num_input shape |', 'Train:',num_train.shape,'Valid:',num_valid.shape,'Test:',num_test.shape)\n",
    "\n",
    "print('cat_input shape |', 'Train:',cat_train.shape,'Valid:',cat_valid.shape,'Test:',cat_test.shape)\n",
    "\n",
    "print('out_input shape |', 'Train:',out_train.shape,'Valid:',out_valid.shape,'Test:',out_test.shape)"
   ]
  },
  {
   "cell_type": "markdown",
   "metadata": {},
   "source": [
    "**Shape of the Columns**"
   ]
  },
  {
   "cell_type": "code",
   "execution_count": 8,
   "metadata": {
    "colab": {},
    "colab_type": "code",
    "id": "Ws1zp5p427n6"
   },
   "outputs": [],
   "source": [
    "# Numerical Cols\n",
    "\n",
    "num_cols = num_train.shape[1]\n",
    "\n",
    "# Categorical Columns\n",
    "\n",
    "cat_input_cols = cat_train.shape[1]\n",
    "\n",
    "# Output Columns\n",
    "\n",
    "out_cols = out_train.shape[1]"
   ]
  },
  {
   "cell_type": "markdown",
   "metadata": {},
   "source": [
    "**Parameters of the embedding layer**"
   ]
  },
  {
   "cell_type": "code",
   "execution_count": 5,
   "metadata": {
    "colab": {
     "base_uri": "https://localhost:8080/",
     "height": 32
    },
    "colab_type": "code",
    "id": "72Si3ilf7__p",
    "outputId": "746bbec5-be1d-4ee2-e206-9682a6357f1f"
   },
   "outputs": [
    {
     "name": "stdout",
     "output_type": "stream",
     "text": [
      "Embedding Vector Size: 10\n"
     ]
    }
   ],
   "source": [
    "# Size of Unique of Categorical Features and Determine Number of Features (i.e. size of vocab)\n",
    "\n",
    "dim = 9085\n",
    "\n",
    "out_dim = int(np.round(dim**0.25,0))\n",
    "\n",
    "print('Embedding Vector Size:', out_dim)"
   ]
  },
  {
   "cell_type": "markdown",
   "metadata": {
    "colab_type": "text",
    "id": "uqoV2D-cspDv"
   },
   "source": [
    "**Set Epochs for all Models**"
   ]
  },
  {
   "cell_type": "code",
   "execution_count": 6,
   "metadata": {
    "colab": {},
    "colab_type": "code",
    "id": "-QV-10xcssR7"
   },
   "outputs": [],
   "source": [
    "models_epochs = 25"
   ]
  },
  {
   "cell_type": "markdown",
   "metadata": {
    "colab_type": "text",
    "id": "hd-4TGvvUM3w"
   },
   "source": [
    "## Functions to Define Metrics and Plot Evaluation Results"
   ]
  },
  {
   "cell_type": "code",
   "execution_count": 22,
   "metadata": {
    "colab": {},
    "colab_type": "code",
    "id": "2-Slhb-sfJUG"
   },
   "outputs": [],
   "source": [
    "def plot_metrics(model_fit,title, xstep = 1):\n",
    "  \n",
    "  '''This function plots the results of accuracy by each epoch. \n",
    "  It takes the data from dictionary created by the fitting function from Keras.'''\n",
    "  \n",
    "  # summarize history for accuracy\n",
    "  \n",
    "  plt.plot(model_fit.history['acc'])\n",
    "  plt.title('model accuracy')\n",
    "  plt.ylabel('accuracy')\n",
    "  plt.yticks(np.arange(0,1.2,step =0.2))\n",
    "  plt.xlabel('epoch')\n",
    "  plt.xticks(np.arange(0,models_epochs,step = xstep))\n",
    "  plt.legend(['accuracy', 'recall', 'precision','auc_roc'], loc='upper left')\n",
    "  plt.title(title)\n",
    "  plt.show()"
   ]
  },
  {
   "cell_type": "code",
   "execution_count": 23,
   "metadata": {
    "colab": {},
    "colab_type": "code",
    "id": "maYX0Ei2fJXi"
   },
   "outputs": [],
   "source": [
    "def plot_loss(model_fit,title, xstep = 1):\n",
    "  \n",
    "  '''This function plots the results of loss by each epoch. \n",
    "  It takes the data from dictionary created by the fitting function from Keras.'''\n",
    "  \n",
    "  # summarize history for loss\n",
    "  plt.plot(model_fit.history['loss'])\n",
    "  plt.title('model loss')\n",
    "  plt.ylabel('loss')\n",
    "  plt.xlabel('epoch')\n",
    "  plt.xticks(np.arange(0,models_epochs,step = xstep))\n",
    "  plt.show()"
   ]
  },
  {
   "cell_type": "code",
   "execution_count": 20,
   "metadata": {
    "colab": {},
    "colab_type": "code",
    "id": "e5MtG1b4fJjU"
   },
   "outputs": [],
   "source": [
    "def plot_cv_results(data, title): \n",
    "    \n",
    "    '''Plot Cross Validation Results'''\n",
    "    \n",
    "    fold_name = ['Fold 1','Fold 2', 'Fold 3', 'Fold 4', 'Fold 5']\n",
    "    \n",
    "    plt.barh(fold_name, data, align='center')\n",
    "    \n",
    "    plt.ylabel('fold number')\n",
    "    \n",
    "    plt.xlabel('results')\n",
    "    \n",
    "    plt.xticks(np.arange(0,120,step =20))\n",
    "    \n",
    "    plt.title(title)\n",
    "    \n",
    "    plt.show()"
   ]
  },
  {
   "cell_type": "markdown",
   "metadata": {
    "colab_type": "text",
    "id": "F3T2y5Ksqess"
   },
   "source": [
    "## Deep Network Model\n",
    "\n",
    "**LR = 0.001**"
   ]
  },
  {
   "cell_type": "code",
   "execution_count": 14,
   "metadata": {
    "colab": {},
    "colab_type": "code",
    "id": "Q0T_NOrWCq0x"
   },
   "outputs": [],
   "source": [
    "# Categorical Inputs\n",
    "\n",
    "cat_input = Input(shape=(cat_input_cols,), dtype='int32', name='cat_input')\n",
    "\n",
    "# Embedding Layer\n",
    "\n",
    "embed = Embedding(output_dim=out_dim, input_dim=dim, input_length=cat_input_cols)(cat_input)\n",
    "\n",
    "# A LSTM will transform the vector sequence into a single vector, containing information about the entire sequence.\n",
    "\n",
    "flatten = Flatten()(embed)\n",
    "\n",
    "#Define numerical features input layer\n",
    "\n",
    "num_input = Input(shape=(num_cols,), name='num_input')\n",
    "\n",
    "# Input Layer. Concatenate numerical data & categorical data inputs into one input.\n",
    "\n",
    "input_layer = keras.layers.concatenate([flatten, num_input])\n",
    "\n",
    "\n",
    "# Dense Layers\n",
    "\n",
    "layer1 = Dense(20, activation='relu')(input_layer)\n",
    "layer2 = Dense(20, activation='relu')(layer1)\n",
    "\n",
    "# Output Layer\n",
    "\n",
    "main_output = Dense(out_cols, activation='softmax', name='main_output')(layer2)\n",
    "\n",
    "# Model\n",
    "\n",
    "model1 = Model(inputs=[cat_input, num_input], outputs=[main_output])\n",
    "\n",
    "# Optimizer: Adam Gradient Descent\n",
    "\n",
    "adamgrad = keras.optimizers.Adagrad(lr=0.001, epsilon=None, decay=0.0)\n",
    "\n",
    "#Compile Model\n",
    "\n",
    "model1.compile(optimizer=adamgrad, loss={'main_output':'categorical_crossentropy'},\n",
    "               metrics=['accuracy'])"
   ]
  },
  {
   "cell_type": "code",
   "execution_count": 15,
   "metadata": {
    "colab": {
     "base_uri": "https://localhost:8080/",
     "height": 98
    },
    "colab_type": "code",
    "id": "8hFujGJA4O3y",
    "outputId": "8a943073-bcf6-4710-c33b-258422799304"
   },
   "outputs": [
    {
     "name": "stdout",
     "output_type": "stream",
     "text": [
      "Epoch 1/25\n",
      " - 566s - loss: 0.8602 - acc: 0.7729\n",
      "Epoch 2/25\n",
      " - 574s - loss: 0.5530 - acc: 0.8519\n",
      "Epoch 3/25\n",
      " - 571s - loss: 0.4927 - acc: 0.8652\n",
      "Epoch 4/25\n",
      " - 575s - loss: 0.4616 - acc: 0.8725\n",
      "Epoch 5/25\n",
      " - 572s - loss: 0.4408 - acc: 0.8774\n",
      "Epoch 6/25\n",
      " - 579s - loss: 0.4253 - acc: 0.8812\n",
      "Epoch 7/25\n",
      " - 575s - loss: 0.4132 - acc: 0.8842\n",
      "Epoch 8/25\n",
      " - 572s - loss: 0.4034 - acc: 0.8868\n",
      "Epoch 9/25\n",
      " - 571s - loss: 0.3954 - acc: 0.8891\n",
      "Epoch 10/25\n",
      " - 568s - loss: 0.3887 - acc: 0.8908\n",
      "Epoch 11/25\n",
      " - 577s - loss: 0.3829 - acc: 0.8924\n",
      "Epoch 12/25\n",
      " - 571s - loss: 0.3779 - acc: 0.8938\n",
      "Epoch 13/25\n",
      " - 570s - loss: 0.3735 - acc: 0.8950\n",
      "Epoch 14/25\n",
      " - 575s - loss: 0.3696 - acc: 0.8961\n",
      "Epoch 15/25\n",
      " - 571s - loss: 0.3661 - acc: 0.8972\n",
      "Epoch 16/25\n",
      " - 576s - loss: 0.3629 - acc: 0.8980\n",
      "Epoch 17/25\n",
      " - 571s - loss: 0.3601 - acc: 0.8987\n",
      "Epoch 18/25\n",
      " - 575s - loss: 0.3574 - acc: 0.8993\n",
      "Epoch 19/25\n",
      " - 573s - loss: 0.3550 - acc: 0.8999\n",
      "Epoch 20/25\n",
      " - 572s - loss: 0.3527 - acc: 0.9004\n",
      "Epoch 21/25\n",
      " - 572s - loss: 0.3506 - acc: 0.9009\n",
      "Epoch 22/25\n",
      " - 581s - loss: 0.3487 - acc: 0.9013\n",
      "Epoch 23/25\n",
      " - 570s - loss: 0.3468 - acc: 0.9017\n",
      "Epoch 24/25\n",
      " - 578s - loss: 0.3451 - acc: 0.9021\n",
      "Epoch 25/25\n",
      " - 574s - loss: 0.3435 - acc: 0.9025\n",
      "CPU times: user 6h 38min 5s, sys: 4h 56min 2s, total: 11h 34min 8s\n",
      "Wall time: 3h 58min 52s\n"
     ]
    }
   ],
   "source": [
    "%%time\n",
    "\n",
    "# Fit Model Function\n",
    "\n",
    "model1_hist = model1.fit({'cat_input':cat_train, 'num_input': num_train}, \n",
    "                         {'main_output': out_train},\n",
    "                         epochs=models_epochs, \n",
    "                         batch_size = 128,\n",
    "                         shuffle = True, \n",
    "                         verbose = 1)"
   ]
  },
  {
   "cell_type": "markdown",
   "metadata": {
    "colab_type": "text",
    "id": "xLHZnMLn-LSj"
   },
   "source": [
    "**Save Model**"
   ]
  },
  {
   "cell_type": "code",
   "execution_count": 16,
   "metadata": {
    "colab": {
     "base_uri": "https://localhost:8080/",
     "height": 175
    },
    "colab_type": "code",
    "id": "4vzALc3pwh0L",
    "outputId": "d82b92d7-aaad-401b-df29-5e527e325686"
   },
   "outputs": [],
   "source": [
    "# Save model history metrics\n",
    "\n",
    "np.save('training_metrics_dict.npy', model1_hist)"
   ]
  },
  {
   "cell_type": "code",
   "execution_count": 17,
   "metadata": {
    "colab": {
     "base_uri": "https://localhost:8080/",
     "height": 224
    },
    "colab_type": "code",
    "id": "FfUFmod9-OTX",
    "outputId": "fb7354db-32b6-4362-e698-0361c82fefec"
   },
   "outputs": [
    {
     "name": "stdout",
     "output_type": "stream",
     "text": [
      "Saved model to disk\n"
     ]
    }
   ],
   "source": [
    "# serialize model to JSON\n",
    "\n",
    "model_json = model1.to_json()\n",
    "\n",
    "with open(\"deep_learning_model1.json\", \"w\") as json_file:\n",
    "    json_file.write(model_json)\n",
    "\n",
    "    # serialize weights to HDF5\n",
    "\n",
    "    model1.save_weights(\"deep_learning_model1_weights.h5\")\n",
    "\n",
    "print(\"Saved model to disk\")"
   ]
  },
  {
   "cell_type": "markdown",
   "metadata": {
    "colab_type": "text",
    "id": "fPiGFHQve5wb"
   },
   "source": [
    "**Plot Results of DNN Model** "
   ]
  },
  {
   "cell_type": "code",
   "execution_count": 93,
   "metadata": {
    "colab": {
     "base_uri": "https://localhost:8080/",
     "height": 389
    },
    "colab_type": "code",
    "id": "W5tewQN5e5eU",
    "outputId": "30134aec-d879-4bce-ba44-dd071c41e03a"
   },
   "outputs": [
    {
     "data": {
      "image/png": "[encoded data removed]",
      "text/plain": [
       "<matplotlib.figure.Figure at 0x7f07b0120b00>"
      ]
     },
     "metadata": {
      "tags": []
     },
     "output_type": "display_data"
    }
   ],
   "source": [
    "plot_metrics(model_fit = model1_hist,title = 'Model Accuracy \\n epochs = 25')"
   ]
  },
  {
   "cell_type": "code",
   "execution_count": 126,
   "metadata": {
    "colab": {
     "base_uri": "https://localhost:8080/",
     "height": 375
    },
    "colab_type": "code",
    "id": "G7MEebpRgaeX",
    "outputId": "e91d4e3e-042a-4cb9-b560-9114f40e0ee5"
   },
   "outputs": [
    {
     "data": {
      "image/png": "[encoded data removed]",
      "text/plain": [
       "<matplotlib.figure.Figure at 0x7f3287ea2fd0>"
      ]
     },
     "metadata": {
      "tags": []
     },
     "output_type": "display_data"
    }
   ],
   "source": [
    "plot_loss(model_fit = model1_hist,title = 'Baseline Model Loss \\n epochs = 25')"
   ]
  },
  {
   "cell_type": "markdown",
   "metadata": {
    "colab_type": "text",
    "id": "n2yBvmYJbm9Y"
   },
   "source": [
    "## Load Model for Evaluation"
   ]
  },
  {
   "cell_type": "code",
   "execution_count": 20,
   "metadata": {
    "colab": {},
    "colab_type": "code",
    "id": "yz609uSYblbb"
   },
   "outputs": [
    {
     "name": "stdout",
     "output_type": "stream",
     "text": [
      "Loaded model from disk\n"
     ]
    }
   ],
   "source": [
    "# load json and create model\n",
    "\n",
    "json_file = open(\"deep_learning_model1.json\", 'r')\n",
    "\n",
    "loaded_model_json = json_file.read()\n",
    "\n",
    "json_file.close()\n",
    "\n",
    "loaded_model = model_from_json(loaded_model_json)\n",
    "\n",
    "# load weights into new model\n",
    "\n",
    "loaded_model.load_weights(\"deep_learning_model1_weights.h5\")\n",
    "\n",
    "print(\"Loaded model from disk\")"
   ]
  },
  {
   "cell_type": "markdown",
   "metadata": {
    "colab_type": "text",
    "id": "VwGEEmV1bCW1"
   },
   "source": [
    "## Evaluate Model"
   ]
  },
  {
   "cell_type": "code",
   "execution_count": 22,
   "metadata": {
    "colab": {},
    "colab_type": "code",
    "id": "HVY74v3Ka-Z8"
   },
   "outputs": [
    {
     "name": "stdout",
     "output_type": "stream",
     "text": [
      "acc: 90.23%\n"
     ]
    }
   ],
   "source": [
    "#Optimizer\n",
    "\n",
    "adamgrad = keras.optimizers.Adagrad(lr=0.001, epsilon=None, decay=0.0)\n",
    "\n",
    "# Compile Model\n",
    "\n",
    "loaded_model.compile(optimizer=adamgrad, loss={'main_output':'categorical_crossentropy'},metrics=['accuracy'])\n",
    "\n",
    "#Score Model\n",
    "\n",
    "score = loaded_model.evaluate({'cat_input':cat_test, 'num_input': num_test}, \n",
    "                              {'main_output': out_test}, batch_size=128, verbose=2)\n",
    "\n",
    "#Print Results\n",
    "\n",
    "print(\"%s: %.2f%%\" % (loaded_model.metrics_names[1], score[1]*100))"
   ]
  },
  {
   "cell_type": "markdown",
   "metadata": {
    "colab_type": "text",
    "id": "r2bcqyjkWDvg"
   },
   "source": [
    "## K-Fold Cross Validation"
   ]
  },
  {
   "cell_type": "markdown",
   "metadata": {},
   "source": [
    "**Define Model**"
   ]
  },
  {
   "cell_type": "code",
   "execution_count": 7,
   "metadata": {},
   "outputs": [],
   "source": [
    "# Numerical Cols\n",
    "\n",
    "num_cols_valid = num_valid.shape[1]\n",
    "\n",
    "# Categorical Columns\n",
    "\n",
    "cat_input_cols_valid = cat_valid.shape[1]\n",
    "\n",
    "# Output Columns\n",
    "\n",
    "out_cols_valid = out_valid.shape[1]"
   ]
  },
  {
   "cell_type": "code",
   "execution_count": 8,
   "metadata": {},
   "outputs": [],
   "source": [
    "# Categorical Inputs\n",
    "\n",
    "cat_input = Input(shape=(cat_input_cols_valid,), dtype='int32', name='cat_input')\n",
    "\n",
    "# Embedding Layer\n",
    "\n",
    "embed = Embedding(output_dim=out_dim, input_dim=dim, input_length=cat_input_cols_valid)(cat_input)\n",
    "\n",
    "# A LSTM will transform the vector sequence into a single vector, containing information about the entire sequence.\n",
    "\n",
    "flatten = Flatten()(embed)\n",
    "\n",
    "#Define numerical features input layer\n",
    "\n",
    "num_input = Input(shape=(num_cols_valid,), name='num_input')\n",
    "\n",
    "# Input Layer. Concatenate numerical data & categorical data inputs into one input.\n",
    "\n",
    "input_layer = keras.layers.concatenate([flatten, num_input])\n",
    "\n",
    "\n",
    "# Dense Layers\n",
    "\n",
    "layer1 = Dense(20, activation='relu')(input_layer)\n",
    "layer2 = Dense(20, activation='relu')(layer1)\n",
    "\n",
    "# Output Layer\n",
    "\n",
    "main_output = Dense(out_cols_valid, activation='softmax', name='main_output')(layer2)\n",
    "\n",
    "# Model\n",
    "\n",
    "modelcv = Model(inputs=[cat_input, num_input], outputs=[main_output])\n",
    "\n",
    "# Optimizer: Adam Gradient Descent\n",
    "\n",
    "adamgrad = keras.optimizers.Adagrad(lr=0.001, epsilon=None, decay=0.0)\n",
    "\n",
    "#Compile Model\n",
    "\n",
    "modelcv.compile(optimizer=adamgrad, loss={'main_output':'categorical_crossentropy'},\n",
    "               metrics=['accuracy'])"
   ]
  },
  {
   "cell_type": "code",
   "execution_count": 9,
   "metadata": {
    "colab": {},
    "colab_type": "code",
    "id": "ZV-IV7UFWeye"
   },
   "outputs": [],
   "source": [
    "def kfold_crossvalidate(cat_input, \n",
    "                        num_input,\n",
    "                        out_input, \n",
    "                        model = modelcv, \n",
    "                        splits = 5, seed = 42, \n",
    "                        epochs = models_epochs, \n",
    "                        batch = 128): \n",
    "  \n",
    "  # Random Seed\n",
    "  \n",
    "  random_seed = seed\n",
    "  \n",
    "  # Divide data in k_folds\n",
    "  \n",
    "  kfold = KFold(n_splits = splits, shuffle=True, random_state=seed)\n",
    "  \n",
    "  # Initialize score list\n",
    "  \n",
    "  cvscores = []\n",
    "  \n",
    "  for train, test in kfold.split(cat_input, num_input,main_output):\n",
    "    \n",
    "    # Fit the model\n",
    "    \n",
    "    model.fit({'cat_input':cat_input[train], \n",
    "               'num_input': num_input[train]}, \n",
    "              {'main_output': out_input[train]},\n",
    "              epochs=models_epochs, batch_size = batch,shuffle = True, verbose = 1)\n",
    "    \n",
    "    # evaluate the model\n",
    "    \n",
    "    scores = model.evaluate({'cat_input':cat_input[train], 'num_input': num_input[train]}, {'main_output': out_input[train]}, \n",
    "                            batch_size=batch, verbose=0)\n",
    "    \n",
    "    print(\"%s: %.2f%%\" % (model.metrics_names[1], scores[1]*100))\n",
    "    \n",
    "    cvscores.append(scores[1] * 100)\n",
    "  \n",
    "  print(\"%.2f%% (+/- %.2f%%)\" % (np.mean(cvscores), np.std(cvscores)))\n",
    "  \n",
    "  return np.array(cvscores)"
   ]
  },
  {
   "cell_type": "code",
   "execution_count": 10,
   "metadata": {
    "colab": {
     "base_uri": "https://localhost:8080/",
     "height": 148
    },
    "colab_type": "code",
    "id": "vT0XKV-zJmJW",
    "outputId": "564e861e-1702-47ff-cb01-b041d0af2448"
   },
   "outputs": [
    {
     "name": "stdout",
     "output_type": "stream",
     "text": [
      "Epoch 1/25\n",
      "1339820/1339820 [==============================] - 51s 38us/step - loss: 1.6576 - acc: 0.5918\n",
      "Epoch 2/25\n",
      "1339820/1339820 [==============================] - 51s 38us/step - loss: 1.1328 - acc: 0.7022\n",
      "Epoch 3/25\n",
      "1339820/1339820 [==============================] - 50s 37us/step - loss: 0.9907 - acc: 0.7291\n",
      "Epoch 4/25\n",
      "1339820/1339820 [==============================] - 50s 37us/step - loss: 0.9065 - acc: 0.7508\n",
      "Epoch 5/25\n",
      "1339820/1339820 [==============================] - 50s 37us/step - loss: 0.8472 - acc: 0.7646\n",
      "Epoch 6/25\n",
      "1339820/1339820 [==============================] - 50s 38us/step - loss: 0.8024 - acc: 0.7817\n",
      "Epoch 7/25\n",
      "1339820/1339820 [==============================] - 50s 38us/step - loss: 0.7666 - acc: 0.7910\n",
      "Epoch 8/25\n",
      "1339820/1339820 [==============================] - 50s 38us/step - loss: 0.7372 - acc: 0.7971\n",
      "Epoch 9/25\n",
      "1339820/1339820 [==============================] - 50s 38us/step - loss: 0.7122 - acc: 0.8035\n",
      "Epoch 10/25\n",
      "1339820/1339820 [==============================] - 50s 37us/step - loss: 0.6897 - acc: 0.8102\n",
      "Epoch 11/25\n",
      "1339820/1339820 [==============================] - 50s 37us/step - loss: 0.6698 - acc: 0.8154\n",
      "Epoch 12/25\n",
      "1339820/1339820 [==============================] - 50s 37us/step - loss: 0.6523 - acc: 0.8205\n",
      "Epoch 13/25\n",
      "1339820/1339820 [==============================] - 50s 37us/step - loss: 0.6365 - acc: 0.8256\n",
      "Epoch 14/25\n",
      "1339820/1339820 [==============================] - 50s 37us/step - loss: 0.6223 - acc: 0.8297\n",
      "Epoch 15/25\n",
      "1339820/1339820 [==============================] - 50s 37us/step - loss: 0.6095 - acc: 0.8335\n",
      "Epoch 16/25\n",
      "1339820/1339820 [==============================] - 50s 37us/step - loss: 0.5979 - acc: 0.8371\n",
      "Epoch 17/25\n",
      "1339820/1339820 [==============================] - 50s 37us/step - loss: 0.5873 - acc: 0.8395\n",
      "Epoch 18/25\n",
      "1339820/1339820 [==============================] - 50s 37us/step - loss: 0.5776 - acc: 0.8416\n",
      "Epoch 19/25\n",
      "1339820/1339820 [==============================] - 50s 37us/step - loss: 0.5686 - acc: 0.8436\n",
      "Epoch 20/25\n",
      "1339820/1339820 [==============================] - 50s 37us/step - loss: 0.5603 - acc: 0.8457\n",
      "Epoch 21/25\n",
      "1339820/1339820 [==============================] - 50s 37us/step - loss: 0.5526 - acc: 0.8474\n",
      "Epoch 22/25\n",
      "1339820/1339820 [==============================] - 50s 37us/step - loss: 0.5455 - acc: 0.8491\n",
      "Epoch 23/25\n",
      "1339820/1339820 [==============================] - 50s 38us/step - loss: 0.5388 - acc: 0.8508\n",
      "Epoch 24/25\n",
      "1339820/1339820 [==============================] - 51s 38us/step - loss: 0.5325 - acc: 0.8524\n",
      "Epoch 25/25\n",
      "1339820/1339820 [==============================] - 50s 37us/step - loss: 0.5266 - acc: 0.8543\n",
      "acc: 85.49%\n",
      "Epoch 1/25\n",
      "1339820/1339820 [==============================] - 50s 37us/step - loss: 0.5215 - acc: 0.8553\n",
      "Epoch 2/25\n",
      "1339820/1339820 [==============================] - 50s 38us/step - loss: 0.5162 - acc: 0.8565\n",
      "Epoch 3/25\n",
      "1339820/1339820 [==============================] - 50s 38us/step - loss: 0.5112 - acc: 0.8577\n",
      "Epoch 4/25\n",
      "1339820/1339820 [==============================] - 50s 38us/step - loss: 0.5064 - acc: 0.8590\n",
      "Epoch 5/25\n",
      "1339820/1339820 [==============================] - 50s 38us/step - loss: 0.5019 - acc: 0.8598\n",
      "Epoch 6/25\n",
      "1339820/1339820 [==============================] - 50s 38us/step - loss: 0.4976 - acc: 0.8606\n",
      "Epoch 7/25\n",
      "1339820/1339820 [==============================] - 50s 37us/step - loss: 0.4935 - acc: 0.8614\n",
      "Epoch 8/25\n",
      "1339820/1339820 [==============================] - 50s 37us/step - loss: 0.4895 - acc: 0.8623\n",
      "Epoch 9/25\n",
      "1339820/1339820 [==============================] - 50s 37us/step - loss: 0.4857 - acc: 0.8632\n",
      "Epoch 10/25\n",
      "1339820/1339820 [==============================] - 50s 37us/step - loss: 0.4821 - acc: 0.8641\n",
      "Epoch 11/25\n",
      "1339820/1339820 [==============================] - 50s 37us/step - loss: 0.4787 - acc: 0.8649\n",
      "Epoch 12/25\n",
      "1339820/1339820 [==============================] - 50s 38us/step - loss: 0.4753 - acc: 0.8655\n",
      "Epoch 13/25\n",
      "1339820/1339820 [==============================] - 50s 38us/step - loss: 0.4721 - acc: 0.8661\n",
      "Epoch 14/25\n",
      "1339820/1339820 [==============================] - 51s 38us/step - loss: 0.4691 - acc: 0.8668\n",
      "Epoch 15/25\n",
      "1339820/1339820 [==============================] - 50s 37us/step - loss: 0.4661 - acc: 0.8674\n",
      "Epoch 16/25\n",
      "1339820/1339820 [==============================] - 50s 37us/step - loss: 0.4633 - acc: 0.8681\n",
      "Epoch 17/25\n",
      "1339820/1339820 [==============================] - 50s 38us/step - loss: 0.4605 - acc: 0.8686\n",
      "Epoch 18/25\n",
      "1339820/1339820 [==============================] - 50s 37us/step - loss: 0.4579 - acc: 0.8692\n",
      "Epoch 19/25\n",
      "1339820/1339820 [==============================] - 50s 38us/step - loss: 0.4554 - acc: 0.8700\n",
      "Epoch 20/25\n",
      "1339820/1339820 [==============================] - 50s 38us/step - loss: 0.4529 - acc: 0.8708\n",
      "Epoch 21/25\n",
      "1339820/1339820 [==============================] - 50s 37us/step - loss: 0.4505 - acc: 0.8715\n",
      "Epoch 22/25\n",
      "1339820/1339820 [==============================] - 50s 38us/step - loss: 0.4482 - acc: 0.8722\n",
      "Epoch 23/25\n",
      "1339820/1339820 [==============================] - 50s 38us/step - loss: 0.4460 - acc: 0.8728\n",
      "Epoch 24/25\n",
      "1339820/1339820 [==============================] - 50s 38us/step - loss: 0.4439 - acc: 0.8735\n",
      "Epoch 25/25\n",
      "1339820/1339820 [==============================] - 50s 37us/step - loss: 0.4418 - acc: 0.8742\n",
      "acc: 87.45%\n",
      "Epoch 1/25\n",
      "1339820/1339820 [==============================] - 50s 37us/step - loss: 0.4412 - acc: 0.8745\n",
      "Epoch 2/25\n",
      "1339820/1339820 [==============================] - 50s 37us/step - loss: 0.4392 - acc: 0.8752\n",
      "Epoch 3/25\n",
      "1339820/1339820 [==============================] - 50s 38us/step - loss: 0.4373 - acc: 0.8759\n",
      "Epoch 4/25\n",
      "1339820/1339820 [==============================] - 50s 37us/step - loss: 0.4354 - acc: 0.8765\n",
      "Epoch 5/25\n",
      "1339820/1339820 [==============================] - 50s 38us/step - loss: 0.4336 - acc: 0.8769\n",
      "Epoch 6/25\n",
      "1339820/1339820 [==============================] - 50s 37us/step - loss: 0.4318 - acc: 0.8774\n",
      "Epoch 7/25\n",
      "1339820/1339820 [==============================] - 50s 37us/step - loss: 0.4301 - acc: 0.8779\n",
      "Epoch 8/25\n",
      "1339820/1339820 [==============================] - 50s 38us/step - loss: 0.4285 - acc: 0.8784\n",
      "Epoch 9/25\n",
      "1339820/1339820 [==============================] - 50s 38us/step - loss: 0.4269 - acc: 0.8789\n",
      "Epoch 10/25\n",
      "1339820/1339820 [==============================] - 50s 37us/step - loss: 0.4253 - acc: 0.8792\n",
      "Epoch 11/25\n",
      "1339820/1339820 [==============================] - 50s 38us/step - loss: 0.4238 - acc: 0.8797\n",
      "Epoch 12/25\n",
      "1339820/1339820 [==============================] - 50s 37us/step - loss: 0.4223 - acc: 0.8801\n",
      "Epoch 13/25\n",
      "1339820/1339820 [==============================] - 50s 37us/step - loss: 0.4208 - acc: 0.8804\n",
      "Epoch 14/25\n",
      "1339820/1339820 [==============================] - 50s 37us/step - loss: 0.4194 - acc: 0.8807\n",
      "Epoch 15/25\n",
      "1339820/1339820 [==============================] - 50s 38us/step - loss: 0.4180 - acc: 0.8811\n",
      "Epoch 16/25\n",
      "1339820/1339820 [==============================] - 51s 38us/step - loss: 0.4167 - acc: 0.8813\n",
      "Epoch 17/25\n",
      "1339820/1339820 [==============================] - 50s 37us/step - loss: 0.4154 - acc: 0.8816\n",
      "Epoch 18/25\n",
      "1339820/1339820 [==============================] - 50s 37us/step - loss: 0.4141 - acc: 0.8820\n",
      "Epoch 19/25\n",
      "1339820/1339820 [==============================] - 50s 37us/step - loss: 0.4128 - acc: 0.8822\n",
      "Epoch 20/25\n",
      "1339820/1339820 [==============================] - 50s 37us/step - loss: 0.4116 - acc: 0.8825\n",
      "Epoch 21/25\n",
      "1339820/1339820 [==============================] - 50s 37us/step - loss: 0.4104 - acc: 0.8828\n",
      "Epoch 22/25\n",
      "1339820/1339820 [==============================] - 50s 38us/step - loss: 0.4092 - acc: 0.8830\n",
      "Epoch 23/25\n",
      "1339820/1339820 [==============================] - 50s 38us/step - loss: 0.4081 - acc: 0.8833\n",
      "Epoch 24/25\n",
      "1339820/1339820 [==============================] - 50s 38us/step - loss: 0.4070 - acc: 0.8836\n",
      "Epoch 25/25\n",
      "1339820/1339820 [==============================] - 50s 37us/step - loss: 0.4059 - acc: 0.8839\n",
      "acc: 88.40%\n",
      "Epoch 1/25\n",
      "1339820/1339820 [==============================] - 50s 37us/step - loss: 0.4043 - acc: 0.8843\n",
      "Epoch 2/25\n",
      "1339820/1339820 [==============================] - 50s 37us/step - loss: 0.4032 - acc: 0.8845\n",
      "Epoch 3/25\n",
      "1339820/1339820 [==============================] - 50s 37us/step - loss: 0.4022 - acc: 0.8848\n",
      "Epoch 4/25\n",
      "1339820/1339820 [==============================] - 50s 37us/step - loss: 0.4012 - acc: 0.8851\n",
      "Epoch 5/25\n",
      "1339820/1339820 [==============================] - 50s 38us/step - loss: 0.4002 - acc: 0.8854\n",
      "Epoch 6/25\n",
      "1339820/1339820 [==============================] - 50s 37us/step - loss: 0.3991 - acc: 0.8858\n",
      "Epoch 7/25\n",
      "1339820/1339820 [==============================] - 50s 38us/step - loss: 0.3982 - acc: 0.8860\n",
      "Epoch 8/25\n",
      "1339820/1339820 [==============================] - 51s 38us/step - loss: 0.3972 - acc: 0.8863\n",
      "Epoch 9/25\n",
      "1339820/1339820 [==============================] - 50s 38us/step - loss: 0.3963 - acc: 0.8865\n",
      "Epoch 10/25\n",
      "1339820/1339820 [==============================] - 50s 37us/step - loss: 0.3954 - acc: 0.8868\n",
      "Epoch 11/25\n",
      "1339820/1339820 [==============================] - 51s 38us/step - loss: 0.3946 - acc: 0.8871\n",
      "Epoch 12/25\n",
      "1339820/1339820 [==============================] - 50s 37us/step - loss: 0.3937 - acc: 0.8873\n",
      "Epoch 13/25\n",
      "1339820/1339820 [==============================] - 51s 38us/step - loss: 0.3928 - acc: 0.8876\n",
      "Epoch 14/25\n",
      "1339820/1339820 [==============================] - 50s 38us/step - loss: 0.3920 - acc: 0.8879\n",
      "Epoch 15/25\n",
      "1339820/1339820 [==============================] - 50s 38us/step - loss: 0.3912 - acc: 0.8881\n",
      "Epoch 16/25\n",
      "1339820/1339820 [==============================] - 50s 37us/step - loss: 0.3904 - acc: 0.8884\n",
      "Epoch 17/25\n",
      "1339820/1339820 [==============================] - 50s 37us/step - loss: 0.3896 - acc: 0.8886\n",
      "Epoch 18/25\n",
      "1339820/1339820 [==============================] - 50s 38us/step - loss: 0.3888 - acc: 0.8889\n",
      "Epoch 19/25\n",
      "1339820/1339820 [==============================] - 50s 38us/step - loss: 0.3881 - acc: 0.8891\n",
      "Epoch 20/25\n",
      "1339820/1339820 [==============================] - 50s 38us/step - loss: 0.3873 - acc: 0.8893\n",
      "Epoch 21/25\n",
      "1339820/1339820 [==============================] - 51s 38us/step - loss: 0.3866 - acc: 0.8895\n",
      "Epoch 22/25\n",
      "1339820/1339820 [==============================] - 50s 37us/step - loss: 0.3859 - acc: 0.8897\n",
      "Epoch 23/25\n",
      "1339820/1339820 [==============================] - 50s 37us/step - loss: 0.3852 - acc: 0.8899\n",
      "Epoch 24/25\n",
      "1339820/1339820 [==============================] - 50s 37us/step - loss: 0.3845 - acc: 0.8901\n",
      "Epoch 25/25\n",
      "1339820/1339820 [==============================] - 50s 38us/step - loss: 0.3838 - acc: 0.8902\n",
      "acc: 89.03%\n",
      "Epoch 1/25\n",
      "1339820/1339820 [==============================] - 50s 37us/step - loss: 0.3834 - acc: 0.8904\n",
      "Epoch 2/25\n",
      "1339820/1339820 [==============================] - 50s 37us/step - loss: 0.3828 - acc: 0.8906\n",
      "Epoch 3/25\n",
      "1339820/1339820 [==============================] - 50s 38us/step - loss: 0.3821 - acc: 0.8908\n",
      "Epoch 4/25\n",
      "1339820/1339820 [==============================] - 51s 38us/step - loss: 0.3814 - acc: 0.8910\n",
      "Epoch 5/25\n",
      "1339820/1339820 [==============================] - 50s 38us/step - loss: 0.3808 - acc: 0.8911\n",
      "Epoch 6/25\n",
      "1339820/1339820 [==============================] - 50s 38us/step - loss: 0.3802 - acc: 0.8913\n",
      "Epoch 7/25\n",
      "1339820/1339820 [==============================] - 50s 38us/step - loss: 0.3795 - acc: 0.8915\n",
      "Epoch 8/25\n",
      "1339820/1339820 [==============================] - 50s 37us/step - loss: 0.3789 - acc: 0.8916\n",
      "Epoch 9/25\n",
      "1339820/1339820 [==============================] - 50s 37us/step - loss: 0.3783 - acc: 0.8918\n",
      "Epoch 10/25\n",
      "1339820/1339820 [==============================] - 50s 37us/step - loss: 0.3776 - acc: 0.8919\n",
      "Epoch 11/25\n",
      "1339820/1339820 [==============================] - 50s 37us/step - loss: 0.3770 - acc: 0.8921\n",
      "Epoch 12/25\n",
      "1339820/1339820 [==============================] - 50s 37us/step - loss: 0.3764 - acc: 0.8922\n",
      "Epoch 13/25\n",
      "1339820/1339820 [==============================] - 50s 38us/step - loss: 0.3757 - acc: 0.8924\n",
      "Epoch 14/25\n",
      "1339820/1339820 [==============================] - 51s 38us/step - loss: 0.3752 - acc: 0.8926\n",
      "Epoch 15/25\n",
      "1339820/1339820 [==============================] - 50s 37us/step - loss: 0.3746 - acc: 0.8927\n",
      "Epoch 16/25\n",
      "1339820/1339820 [==============================] - 50s 37us/step - loss: 0.3740 - acc: 0.8929\n",
      "Epoch 17/25\n",
      "1339820/1339820 [==============================] - 50s 37us/step - loss: 0.3735 - acc: 0.8931\n",
      "Epoch 18/25\n",
      "1339820/1339820 [==============================] - 50s 37us/step - loss: 0.3729 - acc: 0.8933\n",
      "Epoch 19/25\n",
      "1339820/1339820 [==============================] - 50s 38us/step - loss: 0.3724 - acc: 0.8934\n",
      "Epoch 20/25\n",
      "1339820/1339820 [==============================] - 50s 37us/step - loss: 0.3719 - acc: 0.8936\n",
      "Epoch 21/25\n",
      "1339820/1339820 [==============================] - 50s 37us/step - loss: 0.3714 - acc: 0.8937\n",
      "Epoch 22/25\n",
      "1339820/1339820 [==============================] - 50s 37us/step - loss: 0.3709 - acc: 0.8938\n",
      "Epoch 23/25\n",
      "1339820/1339820 [==============================] - 51s 38us/step - loss: 0.3704 - acc: 0.8939\n",
      "Epoch 24/25\n",
      "1339820/1339820 [==============================] - 50s 37us/step - loss: 0.3699 - acc: 0.8941\n",
      "Epoch 25/25\n",
      "1339820/1339820 [==============================] - 50s 37us/step - loss: 0.3694 - acc: 0.8943\n",
      "acc: 89.44%\n",
      "87.96% (+/- 1.41%)\n",
      "CPU times: user 2h 50min 20s, sys: 2h 24min 46s, total: 5h 15min 7s\n",
      "Wall time: 1h 45min 46s\n"
     ]
    }
   ],
   "source": [
    "%%time\n",
    "\n",
    "model1_cv = kfold_crossvalidate(cat_input = cat_valid,\n",
    "                                num_input =num_valid, \n",
    "                                out_input = out_valid, \n",
    "                                model = modelcv, \n",
    "                                splits = 5, seed = 42, \n",
    "                                epochs = models_epochs, \n",
    "                                batch = 128)\n",
    "model1_cv"
   ]
  },
  {
   "cell_type": "code",
   "execution_count": 11,
   "metadata": {},
   "outputs": [],
   "source": [
    "# Save model history metrics\n",
    "\n",
    "np.save('cv_metrics_array.npy', model1_cv)"
   ]
  },
  {
   "cell_type": "code",
   "execution_count": 21,
   "metadata": {
    "colab": {
     "base_uri": "https://localhost:8080/",
     "height": 389
    },
    "colab_type": "code",
    "id": "yiqlAuPKgh-w",
    "outputId": "25b6feba-6a51-4cc2-d18b-c66dedc58940"
   },
   "outputs": [
    {
     "data": {
      "image/png": "[encoded data removed]",
      "text/plain": [
       "<Figure size 432x288 with 1 Axes>"
      ]
     },
     "metadata": {
      "needs_background": "light"
     },
     "output_type": "display_data"
    }
   ],
   "source": [
    "plot_cv_results(data =  model1_cv, title = 'Model Cross Validation Results \\n kfolds = 5')"
   ]
  },
  {
   "cell_type": "code",
   "execution_count": null,
   "metadata": {},
   "outputs": [],
   "source": []
  }
 ],
 "metadata": {
  "accelerator": "GPU",
  "colab": {
   "collapsed_sections": [],
   "name": "Feature Engineering and Deep Learning.ipynb",
   "provenance": [],
   "version": "0.3.2"
  },
  "kernelspec": {
   "display_name": "Python 3",
   "language": "python",
   "name": "python3"
  },
  "language_info": {
   "codemirror_mode": {
    "name": "ipython",
    "version": 3
   },
   "file_extension": ".py",
   "mimetype": "text/x-python",
   "name": "python",
   "nbconvert_exporter": "python",
   "pygments_lexer": "ipython3",
   "version": "3.6.5"
  }
 },
 "nbformat": 4,
 "nbformat_minor": 1
}
